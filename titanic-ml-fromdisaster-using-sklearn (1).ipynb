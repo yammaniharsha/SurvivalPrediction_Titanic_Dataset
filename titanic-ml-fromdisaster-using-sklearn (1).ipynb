{
 "cells": [
  {
   "cell_type": "code",
   "execution_count": 1,
   "id": "6ebbfd52",
   "metadata": {
    "_cell_guid": "b1076dfc-b9ad-4769-8c92-a6c4dae69d19",
    "_uuid": "8f2839f25d086af736a60e9eeb907d3b93b6e0e5",
    "execution": {
     "iopub.execute_input": "2021-10-23T10:46:58.185670Z",
     "iopub.status.busy": "2021-10-23T10:46:58.184937Z",
     "iopub.status.idle": "2021-10-23T10:46:58.193060Z",
     "shell.execute_reply": "2021-10-23T10:46:58.193580Z",
     "shell.execute_reply.started": "2021-10-23T10:30:57.420580Z"
    },
    "papermill": {
     "duration": 0.056534,
     "end_time": "2021-10-23T10:46:58.193883",
     "exception": false,
     "start_time": "2021-10-23T10:46:58.137349",
     "status": "completed"
    },
    "tags": []
   },
   "outputs": [
    {
     "name": "stdout",
     "output_type": "stream",
     "text": [
      "/kaggle/input/titanic/train.csv\n",
      "/kaggle/input/titanic/test.csv\n",
      "/kaggle/input/titanic/gender_submission.csv\n"
     ]
    }
   ],
   "source": [
    "# This Python 3 environment comes with many helpful analytics libraries installed\n",
    "# It is defined by the kaggle/python Docker image: https://github.com/kaggle/docker-python\n",
    "# For example, here's several helpful packages to load\n",
    "\n",
    "import numpy as np # linear algebra\n",
    "import pandas as pd # data processing, CSV file I/O (e.g. pd.read_csv)\n",
    "\n",
    "# Input data files are available in the read-only \"../input/\" directory\n",
    "# For example, running this (by clicking run or pressing Shift+Enter) will list all files under the input directory\n",
    "\n",
    "import os\n",
    "for dirname, _, filenames in os.walk('/kaggle/input'):\n",
    "    for filename in filenames:\n",
    "        print(os.path.join(dirname, filename))\n",
    "\n",
    "# You can write up to 20GB to the current directory (/kaggle/working/) that gets preserved as output when you create a version using \"Save & Run All\" \n",
    "# You can also write temporary files to /kaggle/temp/, but they won't be saved outside of the current session"
   ]
  },
  {
   "cell_type": "code",
   "execution_count": 2,
   "id": "91f4f594",
   "metadata": {
    "execution": {
     "iopub.execute_input": "2021-10-23T10:46:58.269806Z",
     "iopub.status.busy": "2021-10-23T10:46:58.269123Z",
     "iopub.status.idle": "2021-10-23T10:46:59.182342Z",
     "shell.execute_reply": "2021-10-23T10:46:59.182842Z",
     "shell.execute_reply.started": "2021-10-23T10:31:25.437549Z"
    },
    "papermill": {
     "duration": 0.953219,
     "end_time": "2021-10-23T10:46:59.183049",
     "exception": false,
     "start_time": "2021-10-23T10:46:58.229830",
     "status": "completed"
    },
    "tags": []
   },
   "outputs": [],
   "source": [
    "import numpy as np\n",
    "import pandas as pd;\n",
    "import matplotlib.pyplot as plt\n",
    "import seaborn as sns"
   ]
  },
  {
   "cell_type": "code",
   "execution_count": 3,
   "id": "26f1477a",
   "metadata": {
    "execution": {
     "iopub.execute_input": "2021-10-23T10:46:59.259126Z",
     "iopub.status.busy": "2021-10-23T10:46:59.258308Z",
     "iopub.status.idle": "2021-10-23T10:46:59.289346Z",
     "shell.execute_reply": "2021-10-23T10:46:59.288481Z",
     "shell.execute_reply.started": "2021-10-23T10:33:25.593488Z"
    },
    "papermill": {
     "duration": 0.070857,
     "end_time": "2021-10-23T10:46:59.289541",
     "exception": false,
     "start_time": "2021-10-23T10:46:59.218684",
     "status": "completed"
    },
    "tags": []
   },
   "outputs": [
    {
     "name": "stdout",
     "output_type": "stream",
     "text": [
      "891\n"
     ]
    }
   ],
   "source": [
    "train=pd.read_csv('../input/titanic/train.csv')\n",
    "test=pd.read_csv('../input/titanic/test.csv')\n",
    "train_=len(train)\n",
    "print(train_)"
   ]
  },
  {
   "cell_type": "code",
   "execution_count": 4,
   "id": "ff81c876",
   "metadata": {
    "execution": {
     "iopub.execute_input": "2021-10-23T10:46:59.379356Z",
     "iopub.status.busy": "2021-10-23T10:46:59.376236Z",
     "iopub.status.idle": "2021-10-23T10:46:59.398263Z",
     "shell.execute_reply": "2021-10-23T10:46:59.397623Z",
     "shell.execute_reply.started": "2021-10-23T10:33:33.711513Z"
    },
    "papermill": {
     "duration": 0.072552,
     "end_time": "2021-10-23T10:46:59.398413",
     "exception": false,
     "start_time": "2021-10-23T10:46:59.325861",
     "status": "completed"
    },
    "tags": []
   },
   "outputs": [
    {
     "data": {
      "text/html": [
       "<div>\n",
       "<style scoped>\n",
       "    .dataframe tbody tr th:only-of-type {\n",
       "        vertical-align: middle;\n",
       "    }\n",
       "\n",
       "    .dataframe tbody tr th {\n",
       "        vertical-align: top;\n",
       "    }\n",
       "\n",
       "    .dataframe thead th {\n",
       "        text-align: right;\n",
       "    }\n",
       "</style>\n",
       "<table border=\"1\" class=\"dataframe\">\n",
       "  <thead>\n",
       "    <tr style=\"text-align: right;\">\n",
       "      <th></th>\n",
       "      <th>PassengerId</th>\n",
       "      <th>Survived</th>\n",
       "      <th>Pclass</th>\n",
       "      <th>Name</th>\n",
       "      <th>Sex</th>\n",
       "      <th>Age</th>\n",
       "      <th>SibSp</th>\n",
       "      <th>Parch</th>\n",
       "      <th>Ticket</th>\n",
       "      <th>Fare</th>\n",
       "      <th>Cabin</th>\n",
       "      <th>Embarked</th>\n",
       "    </tr>\n",
       "  </thead>\n",
       "  <tbody>\n",
       "    <tr>\n",
       "      <th>0</th>\n",
       "      <td>1</td>\n",
       "      <td>0.0</td>\n",
       "      <td>3</td>\n",
       "      <td>Braund, Mr. Owen Harris</td>\n",
       "      <td>male</td>\n",
       "      <td>22.0</td>\n",
       "      <td>1</td>\n",
       "      <td>0</td>\n",
       "      <td>A/5 21171</td>\n",
       "      <td>7.2500</td>\n",
       "      <td>NaN</td>\n",
       "      <td>S</td>\n",
       "    </tr>\n",
       "    <tr>\n",
       "      <th>1</th>\n",
       "      <td>2</td>\n",
       "      <td>1.0</td>\n",
       "      <td>1</td>\n",
       "      <td>Cumings, Mrs. John Bradley (Florence Briggs Th...</td>\n",
       "      <td>female</td>\n",
       "      <td>38.0</td>\n",
       "      <td>1</td>\n",
       "      <td>0</td>\n",
       "      <td>PC 17599</td>\n",
       "      <td>71.2833</td>\n",
       "      <td>C85</td>\n",
       "      <td>C</td>\n",
       "    </tr>\n",
       "    <tr>\n",
       "      <th>2</th>\n",
       "      <td>3</td>\n",
       "      <td>1.0</td>\n",
       "      <td>3</td>\n",
       "      <td>Heikkinen, Miss. Laina</td>\n",
       "      <td>female</td>\n",
       "      <td>26.0</td>\n",
       "      <td>0</td>\n",
       "      <td>0</td>\n",
       "      <td>STON/O2. 3101282</td>\n",
       "      <td>7.9250</td>\n",
       "      <td>NaN</td>\n",
       "      <td>S</td>\n",
       "    </tr>\n",
       "    <tr>\n",
       "      <th>3</th>\n",
       "      <td>4</td>\n",
       "      <td>1.0</td>\n",
       "      <td>1</td>\n",
       "      <td>Futrelle, Mrs. Jacques Heath (Lily May Peel)</td>\n",
       "      <td>female</td>\n",
       "      <td>35.0</td>\n",
       "      <td>1</td>\n",
       "      <td>0</td>\n",
       "      <td>113803</td>\n",
       "      <td>53.1000</td>\n",
       "      <td>C123</td>\n",
       "      <td>S</td>\n",
       "    </tr>\n",
       "    <tr>\n",
       "      <th>4</th>\n",
       "      <td>5</td>\n",
       "      <td>0.0</td>\n",
       "      <td>3</td>\n",
       "      <td>Allen, Mr. William Henry</td>\n",
       "      <td>male</td>\n",
       "      <td>35.0</td>\n",
       "      <td>0</td>\n",
       "      <td>0</td>\n",
       "      <td>373450</td>\n",
       "      <td>8.0500</td>\n",
       "      <td>NaN</td>\n",
       "      <td>S</td>\n",
       "    </tr>\n",
       "  </tbody>\n",
       "</table>\n",
       "</div>"
      ],
      "text/plain": [
       "   PassengerId  Survived  Pclass  \\\n",
       "0            1       0.0       3   \n",
       "1            2       1.0       1   \n",
       "2            3       1.0       3   \n",
       "3            4       1.0       1   \n",
       "4            5       0.0       3   \n",
       "\n",
       "                                                Name     Sex   Age  SibSp  \\\n",
       "0                            Braund, Mr. Owen Harris    male  22.0      1   \n",
       "1  Cumings, Mrs. John Bradley (Florence Briggs Th...  female  38.0      1   \n",
       "2                             Heikkinen, Miss. Laina  female  26.0      0   \n",
       "3       Futrelle, Mrs. Jacques Heath (Lily May Peel)  female  35.0      1   \n",
       "4                           Allen, Mr. William Henry    male  35.0      0   \n",
       "\n",
       "   Parch            Ticket     Fare Cabin Embarked  \n",
       "0      0         A/5 21171   7.2500   NaN        S  \n",
       "1      0          PC 17599  71.2833   C85        C  \n",
       "2      0  STON/O2. 3101282   7.9250   NaN        S  \n",
       "3      0            113803  53.1000  C123        S  \n",
       "4      0            373450   8.0500   NaN        S  "
      ]
     },
     "execution_count": 4,
     "metadata": {},
     "output_type": "execute_result"
    }
   ],
   "source": [
    "titanic=pd.concat([train,test],ignore_index='True')\n",
    "titanic.head()"
   ]
  },
  {
   "cell_type": "code",
   "execution_count": 5,
   "id": "59bb8589",
   "metadata": {
    "execution": {
     "iopub.execute_input": "2021-10-23T10:46:59.472459Z",
     "iopub.status.busy": "2021-10-23T10:46:59.471801Z",
     "iopub.status.idle": "2021-10-23T10:46:59.493324Z",
     "shell.execute_reply": "2021-10-23T10:46:59.493855Z",
     "shell.execute_reply.started": "2021-10-23T10:33:44.979157Z"
    },
    "papermill": {
     "duration": 0.060162,
     "end_time": "2021-10-23T10:46:59.494045",
     "exception": false,
     "start_time": "2021-10-23T10:46:59.433883",
     "status": "completed"
    },
    "tags": []
   },
   "outputs": [
    {
     "name": "stdout",
     "output_type": "stream",
     "text": [
      "<class 'pandas.core.frame.DataFrame'>\n",
      "RangeIndex: 1309 entries, 0 to 1308\n",
      "Data columns (total 12 columns):\n",
      " #   Column       Non-Null Count  Dtype  \n",
      "---  ------       --------------  -----  \n",
      " 0   PassengerId  1309 non-null   int64  \n",
      " 1   Survived     891 non-null    float64\n",
      " 2   Pclass       1309 non-null   int64  \n",
      " 3   Name         1309 non-null   object \n",
      " 4   Sex          1309 non-null   object \n",
      " 5   Age          1046 non-null   float64\n",
      " 6   SibSp        1309 non-null   int64  \n",
      " 7   Parch        1309 non-null   int64  \n",
      " 8   Ticket       1309 non-null   object \n",
      " 9   Fare         1308 non-null   float64\n",
      " 10  Cabin        295 non-null    object \n",
      " 11  Embarked     1307 non-null   object \n",
      "dtypes: float64(3), int64(4), object(5)\n",
      "memory usage: 122.8+ KB\n"
     ]
    }
   ],
   "source": [
    "titanic.info()"
   ]
  },
  {
   "cell_type": "code",
   "execution_count": 6,
   "id": "5fb89a6f",
   "metadata": {
    "execution": {
     "iopub.execute_input": "2021-10-23T10:46:59.569157Z",
     "iopub.status.busy": "2021-10-23T10:46:59.568145Z",
     "iopub.status.idle": "2021-10-23T10:46:59.577667Z",
     "shell.execute_reply": "2021-10-23T10:46:59.578246Z",
     "shell.execute_reply.started": "2021-10-23T10:33:56.006187Z"
    },
    "papermill": {
     "duration": 0.048654,
     "end_time": "2021-10-23T10:46:59.578419",
     "exception": false,
     "start_time": "2021-10-23T10:46:59.529765",
     "status": "completed"
    },
    "tags": []
   },
   "outputs": [
    {
     "data": {
      "text/plain": [
       "PassengerId       0\n",
       "Survived        418\n",
       "Pclass            0\n",
       "Name              0\n",
       "Sex               0\n",
       "Age             263\n",
       "SibSp             0\n",
       "Parch             0\n",
       "Ticket            0\n",
       "Fare              1\n",
       "Cabin          1014\n",
       "Embarked          2\n",
       "dtype: int64"
      ]
     },
     "execution_count": 6,
     "metadata": {},
     "output_type": "execute_result"
    }
   ],
   "source": [
    "titanic.isnull().sum()"
   ]
  },
  {
   "cell_type": "code",
   "execution_count": 7,
   "id": "4504af81",
   "metadata": {
    "execution": {
     "iopub.execute_input": "2021-10-23T10:46:59.653905Z",
     "iopub.status.busy": "2021-10-23T10:46:59.652906Z",
     "iopub.status.idle": "2021-10-23T10:47:00.177279Z",
     "shell.execute_reply": "2021-10-23T10:47:00.176691Z",
     "shell.execute_reply.started": "2021-10-23T10:34:06.098782Z"
    },
    "papermill": {
     "duration": 0.563285,
     "end_time": "2021-10-23T10:47:00.177432",
     "exception": false,
     "start_time": "2021-10-23T10:46:59.614147",
     "status": "completed"
    },
    "tags": []
   },
   "outputs": [
    {
     "data": {
      "text/plain": [
       "<AxesSubplot:xlabel='Pclass', ylabel='Survived'>"
      ]
     },
     "execution_count": 7,
     "metadata": {},
     "output_type": "execute_result"
    },
    {
     "data": {
      "image/png": "[encoded data removed]",
      "text/plain": [
       "<Figure size 432x288 with 1 Axes>"
      ]
     },
     "metadata": {
      "needs_background": "light"
     },
     "output_type": "display_data"
    }
   ],
   "source": [
    "sns.barplot(data=titanic,x='Pclass',y='Survived',hue='Sex')\n"
   ]
  },
  {
   "cell_type": "code",
   "execution_count": 8,
   "id": "cb87f944",
   "metadata": {
    "execution": {
     "iopub.execute_input": "2021-10-23T10:47:00.259275Z",
     "iopub.status.busy": "2021-10-23T10:47:00.258558Z",
     "iopub.status.idle": "2021-10-23T10:47:00.260322Z",
     "shell.execute_reply": "2021-10-23T10:47:00.260781Z",
     "shell.execute_reply.started": "2021-10-23T10:34:17.865011Z"
    },
    "papermill": {
     "duration": 0.046203,
     "end_time": "2021-10-23T10:47:00.260956",
     "exception": false,
     "start_time": "2021-10-23T10:47:00.214753",
     "status": "completed"
    },
    "tags": []
   },
   "outputs": [],
   "source": [
    "titanic['Sex']=titanic['Sex'].apply({'male':0,'female':1}.get)"
   ]
  },
  {
   "cell_type": "code",
   "execution_count": 9,
   "id": "29e16d00",
   "metadata": {
    "execution": {
     "iopub.execute_input": "2021-10-23T10:47:00.341768Z",
     "iopub.status.busy": "2021-10-23T10:47:00.341064Z",
     "iopub.status.idle": "2021-10-23T10:47:05.619920Z",
     "shell.execute_reply": "2021-10-23T10:47:05.620447Z",
     "shell.execute_reply.started": "2021-10-23T10:34:40.436317Z"
    },
    "papermill": {
     "duration": 5.321812,
     "end_time": "2021-10-23T10:47:05.620621",
     "exception": false,
     "start_time": "2021-10-23T10:47:00.298809",
     "status": "completed"
    },
    "tags": []
   },
   "outputs": [
    {
     "data": {
      "text/plain": [
       "<seaborn.axisgrid.PairGrid at 0x7fe8afdb7350>"
      ]
     },
     "execution_count": 9,
     "metadata": {},
     "output_type": "execute_result"
    },
    {
     "data": {
      "image/png": "[encoded data removed]",
      "text/plain": [
       "<Figure size 900x900 with 30 Axes>"
      ]
     },
     "metadata": {
      "needs_background": "light"
     },
     "output_type": "display_data"
    }
   ],
   "source": [
    "sns.pairplot(titanic,\n",
    "           x_vars=['Pclass','Sex','Age','Fare','Survived'],\n",
    "           y_vars=['Pclass','Sex','Age','Fare','Survived'],\n",
    "           diag_kind='kde')"
   ]
  },
  {
   "cell_type": "code",
   "execution_count": 10,
   "id": "21c15aa3",
   "metadata": {
    "execution": {
     "iopub.execute_input": "2021-10-23T10:47:05.706284Z",
     "iopub.status.busy": "2021-10-23T10:47:05.705587Z",
     "iopub.status.idle": "2021-10-23T10:47:06.070209Z",
     "shell.execute_reply": "2021-10-23T10:47:06.070732Z",
     "shell.execute_reply.started": "2021-10-23T10:34:58.851108Z"
    },
    "papermill": {
     "duration": 0.408881,
     "end_time": "2021-10-23T10:47:06.070907",
     "exception": false,
     "start_time": "2021-10-23T10:47:05.662026",
     "status": "completed"
    },
    "tags": []
   },
   "outputs": [
    {
     "data": {
      "text/plain": [
       "Text(0.5, 1.0, 'Missing Values Heatmap')"
      ]
     },
     "execution_count": 10,
     "metadata": {},
     "output_type": "execute_result"
    },
    {
     "data": {
      "image/png": "[encoded data removed]",
      "text/plain": [
       "<Figure size 432x288 with 1 Axes>"
      ]
     },
     "metadata": {
      "needs_background": "light"
     },
     "output_type": "display_data"
    }
   ],
   "source": [
    "sns.heatmap(titanic.isnull(),cbar=False).set_title(\"Missing Values Heatmap\")"
   ]
  },
  {
   "cell_type": "code",
   "execution_count": 11,
   "id": "f0205972",
   "metadata": {
    "execution": {
     "iopub.execute_input": "2021-10-23T10:47:06.161483Z",
     "iopub.status.busy": "2021-10-23T10:47:06.160437Z",
     "iopub.status.idle": "2021-10-23T10:47:06.172134Z",
     "shell.execute_reply": "2021-10-23T10:47:06.172786Z",
     "shell.execute_reply.started": "2021-10-23T10:35:09.899283Z"
    },
    "papermill": {
     "duration": 0.057437,
     "end_time": "2021-10-23T10:47:06.172966",
     "exception": false,
     "start_time": "2021-10-23T10:47:06.115529",
     "status": "completed"
    },
    "tags": []
   },
   "outputs": [
    {
     "data": {
      "text/plain": [
       "PassengerId    1309\n",
       "Survived          2\n",
       "Pclass            3\n",
       "Name           1307\n",
       "Sex               2\n",
       "Age              98\n",
       "SibSp             7\n",
       "Parch             8\n",
       "Ticket          929\n",
       "Fare            281\n",
       "Cabin           186\n",
       "Embarked          3\n",
       "dtype: int64"
      ]
     },
     "execution_count": 11,
     "metadata": {},
     "output_type": "execute_result"
    }
   ],
   "source": [
    "titanic.nunique()"
   ]
  },
  {
   "cell_type": "code",
   "execution_count": 12,
   "id": "6764465b",
   "metadata": {
    "execution": {
     "iopub.execute_input": "2021-10-23T10:47:06.265683Z",
     "iopub.status.busy": "2021-10-23T10:47:06.264788Z",
     "iopub.status.idle": "2021-10-23T10:47:06.299219Z",
     "shell.execute_reply": "2021-10-23T10:47:06.298512Z",
     "shell.execute_reply.started": "2021-10-23T10:35:23.880023Z"
    },
    "papermill": {
     "duration": 0.082361,
     "end_time": "2021-10-23T10:47:06.299387",
     "exception": false,
     "start_time": "2021-10-23T10:47:06.217026",
     "status": "completed"
    },
    "tags": []
   },
   "outputs": [
    {
     "data": {
      "text/html": [
       "<div>\n",
       "<style scoped>\n",
       "    .dataframe tbody tr th:only-of-type {\n",
       "        vertical-align: middle;\n",
       "    }\n",
       "\n",
       "    .dataframe tbody tr th {\n",
       "        vertical-align: top;\n",
       "    }\n",
       "\n",
       "    .dataframe thead th {\n",
       "        text-align: right;\n",
       "    }\n",
       "</style>\n",
       "<table border=\"1\" class=\"dataframe\">\n",
       "  <thead>\n",
       "    <tr style=\"text-align: right;\">\n",
       "      <th></th>\n",
       "      <th>PassengerId</th>\n",
       "      <th>Survived</th>\n",
       "      <th>Pclass</th>\n",
       "      <th>Sex</th>\n",
       "      <th>Age</th>\n",
       "      <th>SibSp</th>\n",
       "      <th>Parch</th>\n",
       "      <th>Fare</th>\n",
       "    </tr>\n",
       "  </thead>\n",
       "  <tbody>\n",
       "    <tr>\n",
       "      <th>count</th>\n",
       "      <td>1309.000000</td>\n",
       "      <td>891.000000</td>\n",
       "      <td>1309.000000</td>\n",
       "      <td>1309.000000</td>\n",
       "      <td>1046.000000</td>\n",
       "      <td>1309.000000</td>\n",
       "      <td>1309.000000</td>\n",
       "      <td>1308.000000</td>\n",
       "    </tr>\n",
       "    <tr>\n",
       "      <th>mean</th>\n",
       "      <td>655.000000</td>\n",
       "      <td>0.383838</td>\n",
       "      <td>2.294882</td>\n",
       "      <td>0.355997</td>\n",
       "      <td>29.881138</td>\n",
       "      <td>0.498854</td>\n",
       "      <td>0.385027</td>\n",
       "      <td>33.295479</td>\n",
       "    </tr>\n",
       "    <tr>\n",
       "      <th>std</th>\n",
       "      <td>378.020061</td>\n",
       "      <td>0.486592</td>\n",
       "      <td>0.837836</td>\n",
       "      <td>0.478997</td>\n",
       "      <td>14.413493</td>\n",
       "      <td>1.041658</td>\n",
       "      <td>0.865560</td>\n",
       "      <td>51.758668</td>\n",
       "    </tr>\n",
       "    <tr>\n",
       "      <th>min</th>\n",
       "      <td>1.000000</td>\n",
       "      <td>0.000000</td>\n",
       "      <td>1.000000</td>\n",
       "      <td>0.000000</td>\n",
       "      <td>0.170000</td>\n",
       "      <td>0.000000</td>\n",
       "      <td>0.000000</td>\n",
       "      <td>0.000000</td>\n",
       "    </tr>\n",
       "    <tr>\n",
       "      <th>25%</th>\n",
       "      <td>328.000000</td>\n",
       "      <td>0.000000</td>\n",
       "      <td>2.000000</td>\n",
       "      <td>0.000000</td>\n",
       "      <td>21.000000</td>\n",
       "      <td>0.000000</td>\n",
       "      <td>0.000000</td>\n",
       "      <td>7.895800</td>\n",
       "    </tr>\n",
       "    <tr>\n",
       "      <th>50%</th>\n",
       "      <td>655.000000</td>\n",
       "      <td>0.000000</td>\n",
       "      <td>3.000000</td>\n",
       "      <td>0.000000</td>\n",
       "      <td>28.000000</td>\n",
       "      <td>0.000000</td>\n",
       "      <td>0.000000</td>\n",
       "      <td>14.454200</td>\n",
       "    </tr>\n",
       "    <tr>\n",
       "      <th>75%</th>\n",
       "      <td>982.000000</td>\n",
       "      <td>1.000000</td>\n",
       "      <td>3.000000</td>\n",
       "      <td>1.000000</td>\n",
       "      <td>39.000000</td>\n",
       "      <td>1.000000</td>\n",
       "      <td>0.000000</td>\n",
       "      <td>31.275000</td>\n",
       "    </tr>\n",
       "    <tr>\n",
       "      <th>max</th>\n",
       "      <td>1309.000000</td>\n",
       "      <td>1.000000</td>\n",
       "      <td>3.000000</td>\n",
       "      <td>1.000000</td>\n",
       "      <td>80.000000</td>\n",
       "      <td>8.000000</td>\n",
       "      <td>9.000000</td>\n",
       "      <td>512.329200</td>\n",
       "    </tr>\n",
       "  </tbody>\n",
       "</table>\n",
       "</div>"
      ],
      "text/plain": [
       "       PassengerId    Survived       Pclass          Sex          Age  \\\n",
       "count  1309.000000  891.000000  1309.000000  1309.000000  1046.000000   \n",
       "mean    655.000000    0.383838     2.294882     0.355997    29.881138   \n",
       "std     378.020061    0.486592     0.837836     0.478997    14.413493   \n",
       "min       1.000000    0.000000     1.000000     0.000000     0.170000   \n",
       "25%     328.000000    0.000000     2.000000     0.000000    21.000000   \n",
       "50%     655.000000    0.000000     3.000000     0.000000    28.000000   \n",
       "75%     982.000000    1.000000     3.000000     1.000000    39.000000   \n",
       "max    1309.000000    1.000000     3.000000     1.000000    80.000000   \n",
       "\n",
       "             SibSp        Parch         Fare  \n",
       "count  1309.000000  1309.000000  1308.000000  \n",
       "mean      0.498854     0.385027    33.295479  \n",
       "std       1.041658     0.865560    51.758668  \n",
       "min       0.000000     0.000000     0.000000  \n",
       "25%       0.000000     0.000000     7.895800  \n",
       "50%       0.000000     0.000000    14.454200  \n",
       "75%       1.000000     0.000000    31.275000  \n",
       "max       8.000000     9.000000   512.329200  "
      ]
     },
     "execution_count": 12,
     "metadata": {},
     "output_type": "execute_result"
    }
   ],
   "source": [
    "titanic.describe()"
   ]
  },
  {
   "cell_type": "code",
   "execution_count": 13,
   "id": "e443683d",
   "metadata": {
    "execution": {
     "iopub.execute_input": "2021-10-23T10:47:06.391598Z",
     "iopub.status.busy": "2021-10-23T10:47:06.390816Z",
     "iopub.status.idle": "2021-10-23T10:47:06.402067Z",
     "shell.execute_reply": "2021-10-23T10:47:06.402581Z",
     "shell.execute_reply.started": "2021-10-23T10:35:33.014435Z"
    },
    "papermill": {
     "duration": 0.058224,
     "end_time": "2021-10-23T10:47:06.402753",
     "exception": false,
     "start_time": "2021-10-23T10:47:06.344529",
     "status": "completed"
    },
    "tags": []
   },
   "outputs": [
    {
     "data": {
      "text/plain": [
       "Cabin  Survived\n",
       "A10    0.0         1\n",
       "A14    0.0         1\n",
       "A16    1.0         1\n",
       "A19    0.0         1\n",
       "A20    1.0         1\n",
       "                  ..\n",
       "F38    0.0         3\n",
       "F4     1.0         4\n",
       "G6     0.0         6\n",
       "       1.0         6\n",
       "T      0.0         1\n",
       "Name: Pclass, Length: 163, dtype: int64"
      ]
     },
     "execution_count": 13,
     "metadata": {},
     "output_type": "execute_result"
    }
   ],
   "source": [
    "titanic.groupby(['Cabin','Survived'])['Pclass'].sum()"
   ]
  },
  {
   "cell_type": "code",
   "execution_count": 14,
   "id": "dab40b5d",
   "metadata": {
    "execution": {
     "iopub.execute_input": "2021-10-23T10:47:06.496188Z",
     "iopub.status.busy": "2021-10-23T10:47:06.495521Z",
     "iopub.status.idle": "2021-10-23T10:47:06.500877Z",
     "shell.execute_reply": "2021-10-23T10:47:06.501356Z",
     "shell.execute_reply.started": "2021-10-23T10:35:42.279643Z"
    },
    "papermill": {
     "duration": 0.054622,
     "end_time": "2021-10-23T10:47:06.501538",
     "exception": false,
     "start_time": "2021-10-23T10:47:06.446916",
     "status": "completed"
    },
    "tags": []
   },
   "outputs": [
    {
     "data": {
      "text/plain": [
       "array([nan, 'C85', 'C123', 'E46', 'G6', 'C103', 'D56', 'A6',\n",
       "       'C23 C25 C27', 'B78', 'D33', 'B30', 'C52', 'B28', 'C83', 'F33',\n",
       "       'F G73', 'E31', 'A5', 'D10 D12', 'D26', 'C110', 'B58 B60', 'E101',\n",
       "       'F E69', 'D47', 'B86', 'F2', 'C2', 'E33', 'B19', 'A7', 'C49', 'F4',\n",
       "       'A32', 'B4', 'B80', 'A31', 'D36', 'D15', 'C93', 'C78', 'D35',\n",
       "       'C87', 'B77', 'E67', 'B94', 'C125', 'C99', 'C118', 'D7', 'A19',\n",
       "       'B49', 'D', 'C22 C26', 'C106', 'C65', 'E36', 'C54',\n",
       "       'B57 B59 B63 B66', 'C7', 'E34', 'C32', 'B18', 'C124', 'C91', 'E40',\n",
       "       'T', 'C128', 'D37', 'B35', 'E50', 'C82', 'B96 B98', 'E10', 'E44',\n",
       "       'A34', 'C104', 'C111', 'C92', 'E38', 'D21', 'E12', 'E63', 'A14',\n",
       "       'B37', 'C30', 'D20', 'B79', 'E25', 'D46', 'B73', 'C95', 'B38',\n",
       "       'B39', 'B22', 'C86', 'C70', 'A16', 'C101', 'C68', 'A10', 'E68',\n",
       "       'B41', 'A20', 'D19', 'D50', 'D9', 'A23', 'B50', 'A26', 'D48',\n",
       "       'E58', 'C126', 'B71', 'B51 B53 B55', 'D49', 'B5', 'B20', 'F G63',\n",
       "       'C62 C64', 'E24', 'C90', 'C45', 'E8', 'B101', 'D45', 'C46', 'D30',\n",
       "       'E121', 'D11', 'E77', 'F38', 'B3', 'D6', 'B82 B84', 'D17', 'A36',\n",
       "       'B102', 'B69', 'E49', 'C47', 'D28', 'E17', 'A24', 'C50', 'B42',\n",
       "       'C148', 'B45', 'B36', 'A21', 'D34', 'A9', 'C31', 'B61', 'C53',\n",
       "       'D43', 'C130', 'C132', 'C55 C57', 'C116', 'F', 'A29', 'C6', 'C28',\n",
       "       'C51', 'C97', 'D22', 'B10', 'E45', 'E52', 'A11', 'B11', 'C80',\n",
       "       'C89', 'F E46', 'B26', 'F E57', 'A18', 'E60', 'E39 E41',\n",
       "       'B52 B54 B56', 'C39', 'B24', 'D40', 'D38', 'C105'], dtype=object)"
      ]
     },
     "execution_count": 14,
     "metadata": {},
     "output_type": "execute_result"
    }
   ],
   "source": [
    "titanic['Cabin'].unique()"
   ]
  },
  {
   "cell_type": "code",
   "execution_count": 15,
   "id": "827eb4e4",
   "metadata": {
    "execution": {
     "iopub.execute_input": "2021-10-23T10:47:06.592457Z",
     "iopub.status.busy": "2021-10-23T10:47:06.591755Z",
     "iopub.status.idle": "2021-10-23T10:47:06.616169Z",
     "shell.execute_reply": "2021-10-23T10:47:06.616712Z",
     "shell.execute_reply.started": "2021-10-23T10:36:09.262708Z"
    },
    "papermill": {
     "duration": 0.071715,
     "end_time": "2021-10-23T10:47:06.616891",
     "exception": false,
     "start_time": "2021-10-23T10:47:06.545176",
     "status": "completed"
    },
    "tags": []
   },
   "outputs": [
    {
     "data": {
      "text/html": [
       "<div>\n",
       "<style scoped>\n",
       "    .dataframe tbody tr th:only-of-type {\n",
       "        vertical-align: middle;\n",
       "    }\n",
       "\n",
       "    .dataframe tbody tr th {\n",
       "        vertical-align: top;\n",
       "    }\n",
       "\n",
       "    .dataframe thead th {\n",
       "        text-align: right;\n",
       "    }\n",
       "</style>\n",
       "<table border=\"1\" class=\"dataframe\">\n",
       "  <thead>\n",
       "    <tr style=\"text-align: right;\">\n",
       "      <th></th>\n",
       "      <th>PassengerId</th>\n",
       "      <th>Survived</th>\n",
       "      <th>Pclass</th>\n",
       "      <th>Name</th>\n",
       "      <th>Sex</th>\n",
       "      <th>Age</th>\n",
       "      <th>SibSp</th>\n",
       "      <th>Parch</th>\n",
       "      <th>Ticket</th>\n",
       "      <th>Fare</th>\n",
       "      <th>Cabin</th>\n",
       "      <th>Embarked</th>\n",
       "    </tr>\n",
       "  </thead>\n",
       "  <tbody>\n",
       "    <tr>\n",
       "      <th>0</th>\n",
       "      <td>1</td>\n",
       "      <td>0.0</td>\n",
       "      <td>3</td>\n",
       "      <td>Braund, Mr. Owen Harris</td>\n",
       "      <td>0</td>\n",
       "      <td>22.0</td>\n",
       "      <td>1</td>\n",
       "      <td>0</td>\n",
       "      <td>A/5 21171</td>\n",
       "      <td>7.2500</td>\n",
       "      <td>N</td>\n",
       "      <td>S</td>\n",
       "    </tr>\n",
       "    <tr>\n",
       "      <th>1</th>\n",
       "      <td>2</td>\n",
       "      <td>1.0</td>\n",
       "      <td>1</td>\n",
       "      <td>Cumings, Mrs. John Bradley (Florence Briggs Th...</td>\n",
       "      <td>1</td>\n",
       "      <td>38.0</td>\n",
       "      <td>1</td>\n",
       "      <td>0</td>\n",
       "      <td>PC 17599</td>\n",
       "      <td>71.2833</td>\n",
       "      <td>C85</td>\n",
       "      <td>C</td>\n",
       "    </tr>\n",
       "    <tr>\n",
       "      <th>2</th>\n",
       "      <td>3</td>\n",
       "      <td>1.0</td>\n",
       "      <td>3</td>\n",
       "      <td>Heikkinen, Miss. Laina</td>\n",
       "      <td>1</td>\n",
       "      <td>26.0</td>\n",
       "      <td>0</td>\n",
       "      <td>0</td>\n",
       "      <td>STON/O2. 3101282</td>\n",
       "      <td>7.9250</td>\n",
       "      <td>N</td>\n",
       "      <td>S</td>\n",
       "    </tr>\n",
       "    <tr>\n",
       "      <th>3</th>\n",
       "      <td>4</td>\n",
       "      <td>1.0</td>\n",
       "      <td>1</td>\n",
       "      <td>Futrelle, Mrs. Jacques Heath (Lily May Peel)</td>\n",
       "      <td>1</td>\n",
       "      <td>35.0</td>\n",
       "      <td>1</td>\n",
       "      <td>0</td>\n",
       "      <td>113803</td>\n",
       "      <td>53.1000</td>\n",
       "      <td>C123</td>\n",
       "      <td>S</td>\n",
       "    </tr>\n",
       "    <tr>\n",
       "      <th>4</th>\n",
       "      <td>5</td>\n",
       "      <td>0.0</td>\n",
       "      <td>3</td>\n",
       "      <td>Allen, Mr. William Henry</td>\n",
       "      <td>0</td>\n",
       "      <td>35.0</td>\n",
       "      <td>0</td>\n",
       "      <td>0</td>\n",
       "      <td>373450</td>\n",
       "      <td>8.0500</td>\n",
       "      <td>N</td>\n",
       "      <td>S</td>\n",
       "    </tr>\n",
       "    <tr>\n",
       "      <th>...</th>\n",
       "      <td>...</td>\n",
       "      <td>...</td>\n",
       "      <td>...</td>\n",
       "      <td>...</td>\n",
       "      <td>...</td>\n",
       "      <td>...</td>\n",
       "      <td>...</td>\n",
       "      <td>...</td>\n",
       "      <td>...</td>\n",
       "      <td>...</td>\n",
       "      <td>...</td>\n",
       "      <td>...</td>\n",
       "    </tr>\n",
       "    <tr>\n",
       "      <th>1304</th>\n",
       "      <td>1305</td>\n",
       "      <td>NaN</td>\n",
       "      <td>3</td>\n",
       "      <td>Spector, Mr. Woolf</td>\n",
       "      <td>0</td>\n",
       "      <td>NaN</td>\n",
       "      <td>0</td>\n",
       "      <td>0</td>\n",
       "      <td>A.5. 3236</td>\n",
       "      <td>8.0500</td>\n",
       "      <td>N</td>\n",
       "      <td>S</td>\n",
       "    </tr>\n",
       "    <tr>\n",
       "      <th>1305</th>\n",
       "      <td>1306</td>\n",
       "      <td>NaN</td>\n",
       "      <td>1</td>\n",
       "      <td>Oliva y Ocana, Dona. Fermina</td>\n",
       "      <td>1</td>\n",
       "      <td>39.0</td>\n",
       "      <td>0</td>\n",
       "      <td>0</td>\n",
       "      <td>PC 17758</td>\n",
       "      <td>108.9000</td>\n",
       "      <td>C105</td>\n",
       "      <td>C</td>\n",
       "    </tr>\n",
       "    <tr>\n",
       "      <th>1306</th>\n",
       "      <td>1307</td>\n",
       "      <td>NaN</td>\n",
       "      <td>3</td>\n",
       "      <td>Saether, Mr. Simon Sivertsen</td>\n",
       "      <td>0</td>\n",
       "      <td>38.5</td>\n",
       "      <td>0</td>\n",
       "      <td>0</td>\n",
       "      <td>SOTON/O.Q. 3101262</td>\n",
       "      <td>7.2500</td>\n",
       "      <td>N</td>\n",
       "      <td>S</td>\n",
       "    </tr>\n",
       "    <tr>\n",
       "      <th>1307</th>\n",
       "      <td>1308</td>\n",
       "      <td>NaN</td>\n",
       "      <td>3</td>\n",
       "      <td>Ware, Mr. Frederick</td>\n",
       "      <td>0</td>\n",
       "      <td>NaN</td>\n",
       "      <td>0</td>\n",
       "      <td>0</td>\n",
       "      <td>359309</td>\n",
       "      <td>8.0500</td>\n",
       "      <td>N</td>\n",
       "      <td>S</td>\n",
       "    </tr>\n",
       "    <tr>\n",
       "      <th>1308</th>\n",
       "      <td>1309</td>\n",
       "      <td>NaN</td>\n",
       "      <td>3</td>\n",
       "      <td>Peter, Master. Michael J</td>\n",
       "      <td>0</td>\n",
       "      <td>NaN</td>\n",
       "      <td>1</td>\n",
       "      <td>1</td>\n",
       "      <td>2668</td>\n",
       "      <td>22.3583</td>\n",
       "      <td>N</td>\n",
       "      <td>C</td>\n",
       "    </tr>\n",
       "  </tbody>\n",
       "</table>\n",
       "<p>1309 rows × 12 columns</p>\n",
       "</div>"
      ],
      "text/plain": [
       "      PassengerId  Survived  Pclass  \\\n",
       "0               1       0.0       3   \n",
       "1               2       1.0       1   \n",
       "2               3       1.0       3   \n",
       "3               4       1.0       1   \n",
       "4               5       0.0       3   \n",
       "...           ...       ...     ...   \n",
       "1304         1305       NaN       3   \n",
       "1305         1306       NaN       1   \n",
       "1306         1307       NaN       3   \n",
       "1307         1308       NaN       3   \n",
       "1308         1309       NaN       3   \n",
       "\n",
       "                                                   Name  Sex   Age  SibSp  \\\n",
       "0                               Braund, Mr. Owen Harris    0  22.0      1   \n",
       "1     Cumings, Mrs. John Bradley (Florence Briggs Th...    1  38.0      1   \n",
       "2                                Heikkinen, Miss. Laina    1  26.0      0   \n",
       "3          Futrelle, Mrs. Jacques Heath (Lily May Peel)    1  35.0      1   \n",
       "4                              Allen, Mr. William Henry    0  35.0      0   \n",
       "...                                                 ...  ...   ...    ...   \n",
       "1304                                 Spector, Mr. Woolf    0   NaN      0   \n",
       "1305                       Oliva y Ocana, Dona. Fermina    1  39.0      0   \n",
       "1306                       Saether, Mr. Simon Sivertsen    0  38.5      0   \n",
       "1307                                Ware, Mr. Frederick    0   NaN      0   \n",
       "1308                           Peter, Master. Michael J    0   NaN      1   \n",
       "\n",
       "      Parch              Ticket      Fare Cabin Embarked  \n",
       "0         0           A/5 21171    7.2500     N        S  \n",
       "1         0            PC 17599   71.2833   C85        C  \n",
       "2         0    STON/O2. 3101282    7.9250     N        S  \n",
       "3         0              113803   53.1000  C123        S  \n",
       "4         0              373450    8.0500     N        S  \n",
       "...     ...                 ...       ...   ...      ...  \n",
       "1304      0           A.5. 3236    8.0500     N        S  \n",
       "1305      0            PC 17758  108.9000  C105        C  \n",
       "1306      0  SOTON/O.Q. 3101262    7.2500     N        S  \n",
       "1307      0              359309    8.0500     N        S  \n",
       "1308      1                2668   22.3583     N        C  \n",
       "\n",
       "[1309 rows x 12 columns]"
      ]
     },
     "execution_count": 15,
     "metadata": {},
     "output_type": "execute_result"
    }
   ],
   "source": [
    "titanic['Cabin']=titanic['Cabin'].replace(np.nan,'N')\n",
    "titanic"
   ]
  },
  {
   "cell_type": "code",
   "execution_count": 16,
   "id": "0c0110e4",
   "metadata": {
    "execution": {
     "iopub.execute_input": "2021-10-23T10:47:06.709722Z",
     "iopub.status.busy": "2021-10-23T10:47:06.708982Z",
     "iopub.status.idle": "2021-10-23T10:47:06.734349Z",
     "shell.execute_reply": "2021-10-23T10:47:06.734846Z",
     "shell.execute_reply.started": "2021-10-23T10:36:19.148006Z"
    },
    "papermill": {
     "duration": 0.073259,
     "end_time": "2021-10-23T10:47:06.735049",
     "exception": false,
     "start_time": "2021-10-23T10:47:06.661790",
     "status": "completed"
    },
    "tags": []
   },
   "outputs": [
    {
     "data": {
      "text/html": [
       "<div>\n",
       "<style scoped>\n",
       "    .dataframe tbody tr th:only-of-type {\n",
       "        vertical-align: middle;\n",
       "    }\n",
       "\n",
       "    .dataframe tbody tr th {\n",
       "        vertical-align: top;\n",
       "    }\n",
       "\n",
       "    .dataframe thead th {\n",
       "        text-align: right;\n",
       "    }\n",
       "</style>\n",
       "<table border=\"1\" class=\"dataframe\">\n",
       "  <thead>\n",
       "    <tr style=\"text-align: right;\">\n",
       "      <th></th>\n",
       "      <th>PassengerId</th>\n",
       "      <th>Survived</th>\n",
       "      <th>Pclass</th>\n",
       "      <th>Name</th>\n",
       "      <th>Sex</th>\n",
       "      <th>Age</th>\n",
       "      <th>SibSp</th>\n",
       "      <th>Parch</th>\n",
       "      <th>Ticket</th>\n",
       "      <th>Fare</th>\n",
       "      <th>Cabin</th>\n",
       "      <th>Embarked</th>\n",
       "      <th>Deck</th>\n",
       "    </tr>\n",
       "  </thead>\n",
       "  <tbody>\n",
       "    <tr>\n",
       "      <th>0</th>\n",
       "      <td>1</td>\n",
       "      <td>0.0</td>\n",
       "      <td>3</td>\n",
       "      <td>Braund, Mr. Owen Harris</td>\n",
       "      <td>0</td>\n",
       "      <td>22.0</td>\n",
       "      <td>1</td>\n",
       "      <td>0</td>\n",
       "      <td>A/5 21171</td>\n",
       "      <td>7.2500</td>\n",
       "      <td>N</td>\n",
       "      <td>S</td>\n",
       "      <td>N</td>\n",
       "    </tr>\n",
       "    <tr>\n",
       "      <th>1</th>\n",
       "      <td>2</td>\n",
       "      <td>1.0</td>\n",
       "      <td>1</td>\n",
       "      <td>Cumings, Mrs. John Bradley (Florence Briggs Th...</td>\n",
       "      <td>1</td>\n",
       "      <td>38.0</td>\n",
       "      <td>1</td>\n",
       "      <td>0</td>\n",
       "      <td>PC 17599</td>\n",
       "      <td>71.2833</td>\n",
       "      <td>C85</td>\n",
       "      <td>C</td>\n",
       "      <td>C</td>\n",
       "    </tr>\n",
       "    <tr>\n",
       "      <th>2</th>\n",
       "      <td>3</td>\n",
       "      <td>1.0</td>\n",
       "      <td>3</td>\n",
       "      <td>Heikkinen, Miss. Laina</td>\n",
       "      <td>1</td>\n",
       "      <td>26.0</td>\n",
       "      <td>0</td>\n",
       "      <td>0</td>\n",
       "      <td>STON/O2. 3101282</td>\n",
       "      <td>7.9250</td>\n",
       "      <td>N</td>\n",
       "      <td>S</td>\n",
       "      <td>N</td>\n",
       "    </tr>\n",
       "    <tr>\n",
       "      <th>3</th>\n",
       "      <td>4</td>\n",
       "      <td>1.0</td>\n",
       "      <td>1</td>\n",
       "      <td>Futrelle, Mrs. Jacques Heath (Lily May Peel)</td>\n",
       "      <td>1</td>\n",
       "      <td>35.0</td>\n",
       "      <td>1</td>\n",
       "      <td>0</td>\n",
       "      <td>113803</td>\n",
       "      <td>53.1000</td>\n",
       "      <td>C123</td>\n",
       "      <td>S</td>\n",
       "      <td>C</td>\n",
       "    </tr>\n",
       "    <tr>\n",
       "      <th>4</th>\n",
       "      <td>5</td>\n",
       "      <td>0.0</td>\n",
       "      <td>3</td>\n",
       "      <td>Allen, Mr. William Henry</td>\n",
       "      <td>0</td>\n",
       "      <td>35.0</td>\n",
       "      <td>0</td>\n",
       "      <td>0</td>\n",
       "      <td>373450</td>\n",
       "      <td>8.0500</td>\n",
       "      <td>N</td>\n",
       "      <td>S</td>\n",
       "      <td>N</td>\n",
       "    </tr>\n",
       "    <tr>\n",
       "      <th>...</th>\n",
       "      <td>...</td>\n",
       "      <td>...</td>\n",
       "      <td>...</td>\n",
       "      <td>...</td>\n",
       "      <td>...</td>\n",
       "      <td>...</td>\n",
       "      <td>...</td>\n",
       "      <td>...</td>\n",
       "      <td>...</td>\n",
       "      <td>...</td>\n",
       "      <td>...</td>\n",
       "      <td>...</td>\n",
       "      <td>...</td>\n",
       "    </tr>\n",
       "    <tr>\n",
       "      <th>1304</th>\n",
       "      <td>1305</td>\n",
       "      <td>NaN</td>\n",
       "      <td>3</td>\n",
       "      <td>Spector, Mr. Woolf</td>\n",
       "      <td>0</td>\n",
       "      <td>NaN</td>\n",
       "      <td>0</td>\n",
       "      <td>0</td>\n",
       "      <td>A.5. 3236</td>\n",
       "      <td>8.0500</td>\n",
       "      <td>N</td>\n",
       "      <td>S</td>\n",
       "      <td>N</td>\n",
       "    </tr>\n",
       "    <tr>\n",
       "      <th>1305</th>\n",
       "      <td>1306</td>\n",
       "      <td>NaN</td>\n",
       "      <td>1</td>\n",
       "      <td>Oliva y Ocana, Dona. Fermina</td>\n",
       "      <td>1</td>\n",
       "      <td>39.0</td>\n",
       "      <td>0</td>\n",
       "      <td>0</td>\n",
       "      <td>PC 17758</td>\n",
       "      <td>108.9000</td>\n",
       "      <td>C105</td>\n",
       "      <td>C</td>\n",
       "      <td>C</td>\n",
       "    </tr>\n",
       "    <tr>\n",
       "      <th>1306</th>\n",
       "      <td>1307</td>\n",
       "      <td>NaN</td>\n",
       "      <td>3</td>\n",
       "      <td>Saether, Mr. Simon Sivertsen</td>\n",
       "      <td>0</td>\n",
       "      <td>38.5</td>\n",
       "      <td>0</td>\n",
       "      <td>0</td>\n",
       "      <td>SOTON/O.Q. 3101262</td>\n",
       "      <td>7.2500</td>\n",
       "      <td>N</td>\n",
       "      <td>S</td>\n",
       "      <td>N</td>\n",
       "    </tr>\n",
       "    <tr>\n",
       "      <th>1307</th>\n",
       "      <td>1308</td>\n",
       "      <td>NaN</td>\n",
       "      <td>3</td>\n",
       "      <td>Ware, Mr. Frederick</td>\n",
       "      <td>0</td>\n",
       "      <td>NaN</td>\n",
       "      <td>0</td>\n",
       "      <td>0</td>\n",
       "      <td>359309</td>\n",
       "      <td>8.0500</td>\n",
       "      <td>N</td>\n",
       "      <td>S</td>\n",
       "      <td>N</td>\n",
       "    </tr>\n",
       "    <tr>\n",
       "      <th>1308</th>\n",
       "      <td>1309</td>\n",
       "      <td>NaN</td>\n",
       "      <td>3</td>\n",
       "      <td>Peter, Master. Michael J</td>\n",
       "      <td>0</td>\n",
       "      <td>NaN</td>\n",
       "      <td>1</td>\n",
       "      <td>1</td>\n",
       "      <td>2668</td>\n",
       "      <td>22.3583</td>\n",
       "      <td>N</td>\n",
       "      <td>C</td>\n",
       "      <td>N</td>\n",
       "    </tr>\n",
       "  </tbody>\n",
       "</table>\n",
       "<p>1309 rows × 13 columns</p>\n",
       "</div>"
      ],
      "text/plain": [
       "      PassengerId  Survived  Pclass  \\\n",
       "0               1       0.0       3   \n",
       "1               2       1.0       1   \n",
       "2               3       1.0       3   \n",
       "3               4       1.0       1   \n",
       "4               5       0.0       3   \n",
       "...           ...       ...     ...   \n",
       "1304         1305       NaN       3   \n",
       "1305         1306       NaN       1   \n",
       "1306         1307       NaN       3   \n",
       "1307         1308       NaN       3   \n",
       "1308         1309       NaN       3   \n",
       "\n",
       "                                                   Name  Sex   Age  SibSp  \\\n",
       "0                               Braund, Mr. Owen Harris    0  22.0      1   \n",
       "1     Cumings, Mrs. John Bradley (Florence Briggs Th...    1  38.0      1   \n",
       "2                                Heikkinen, Miss. Laina    1  26.0      0   \n",
       "3          Futrelle, Mrs. Jacques Heath (Lily May Peel)    1  35.0      1   \n",
       "4                              Allen, Mr. William Henry    0  35.0      0   \n",
       "...                                                 ...  ...   ...    ...   \n",
       "1304                                 Spector, Mr. Woolf    0   NaN      0   \n",
       "1305                       Oliva y Ocana, Dona. Fermina    1  39.0      0   \n",
       "1306                       Saether, Mr. Simon Sivertsen    0  38.5      0   \n",
       "1307                                Ware, Mr. Frederick    0   NaN      0   \n",
       "1308                           Peter, Master. Michael J    0   NaN      1   \n",
       "\n",
       "      Parch              Ticket      Fare Cabin Embarked Deck  \n",
       "0         0           A/5 21171    7.2500     N        S    N  \n",
       "1         0            PC 17599   71.2833   C85        C    C  \n",
       "2         0    STON/O2. 3101282    7.9250     N        S    N  \n",
       "3         0              113803   53.1000  C123        S    C  \n",
       "4         0              373450    8.0500     N        S    N  \n",
       "...     ...                 ...       ...   ...      ...  ...  \n",
       "1304      0           A.5. 3236    8.0500     N        S    N  \n",
       "1305      0            PC 17758  108.9000  C105        C    C  \n",
       "1306      0  SOTON/O.Q. 3101262    7.2500     N        S    N  \n",
       "1307      0              359309    8.0500     N        S    N  \n",
       "1308      1                2668   22.3583     N        C    N  \n",
       "\n",
       "[1309 rows x 13 columns]"
      ]
     },
     "execution_count": 16,
     "metadata": {},
     "output_type": "execute_result"
    }
   ],
   "source": [
    "titanic['Deck']=titanic['Cabin'].str[:1]\n",
    "titanic"
   ]
  },
  {
   "cell_type": "code",
   "execution_count": 17,
   "id": "676376bd",
   "metadata": {
    "execution": {
     "iopub.execute_input": "2021-10-23T10:47:06.830881Z",
     "iopub.status.busy": "2021-10-23T10:47:06.830208Z",
     "iopub.status.idle": "2021-10-23T10:47:07.255713Z",
     "shell.execute_reply": "2021-10-23T10:47:07.255143Z",
     "shell.execute_reply.started": "2021-10-23T10:36:29.082801Z"
    },
    "papermill": {
     "duration": 0.475026,
     "end_time": "2021-10-23T10:47:07.255868",
     "exception": false,
     "start_time": "2021-10-23T10:47:06.780842",
     "status": "completed"
    },
    "tags": []
   },
   "outputs": [
    {
     "data": {
      "text/plain": [
       "<seaborn.axisgrid.FacetGrid at 0x7fe8a6eb4390>"
      ]
     },
     "execution_count": 17,
     "metadata": {},
     "output_type": "execute_result"
    },
    {
     "data": {
      "image/png": "[encoded data removed]",
      "text/plain": [
       "<Figure size 411.875x360 with 1 Axes>"
      ]
     },
     "metadata": {
      "needs_background": "light"
     },
     "output_type": "display_data"
    }
   ],
   "source": [
    "sns.displot(titanic,x='Deck',hue='Survived',multiple='dodge')"
   ]
  },
  {
   "cell_type": "code",
   "execution_count": 18,
   "id": "1fa0fbbc",
   "metadata": {
    "execution": {
     "iopub.execute_input": "2021-10-23T10:47:07.418791Z",
     "iopub.status.busy": "2021-10-23T10:47:07.418129Z",
     "iopub.status.idle": "2021-10-23T10:47:07.423512Z",
     "shell.execute_reply": "2021-10-23T10:47:07.424071Z",
     "shell.execute_reply.started": "2021-10-23T10:36:43.582841Z"
    },
    "papermill": {
     "duration": 0.119712,
     "end_time": "2021-10-23T10:47:07.424247",
     "exception": false,
     "start_time": "2021-10-23T10:47:07.304535",
     "status": "completed"
    },
    "tags": []
   },
   "outputs": [
    {
     "data": {
      "text/plain": [
       "N    1014\n",
       "C      94\n",
       "B      65\n",
       "D      46\n",
       "E      41\n",
       "A      22\n",
       "F      21\n",
       "G       5\n",
       "T       1\n",
       "Name: Deck, dtype: int64"
      ]
     },
     "execution_count": 18,
     "metadata": {},
     "output_type": "execute_result"
    }
   ],
   "source": [
    "titanic['Deck'].value_counts().sort_values(ascending=False)"
   ]
  },
  {
   "cell_type": "code",
   "execution_count": 19,
   "id": "8d8f1dad",
   "metadata": {
    "execution": {
     "iopub.execute_input": "2021-10-23T10:47:07.523572Z",
     "iopub.status.busy": "2021-10-23T10:47:07.522803Z",
     "iopub.status.idle": "2021-10-23T10:47:07.541333Z",
     "shell.execute_reply": "2021-10-23T10:47:07.541884Z",
     "shell.execute_reply.started": "2021-10-23T10:36:50.872496Z"
    },
    "papermill": {
     "duration": 0.070741,
     "end_time": "2021-10-23T10:47:07.542078",
     "exception": false,
     "start_time": "2021-10-23T10:47:07.471337",
     "status": "completed"
    },
    "tags": []
   },
   "outputs": [
    {
     "data": {
      "text/html": [
       "<div>\n",
       "<style scoped>\n",
       "    .dataframe tbody tr th:only-of-type {\n",
       "        vertical-align: middle;\n",
       "    }\n",
       "\n",
       "    .dataframe tbody tr th {\n",
       "        vertical-align: top;\n",
       "    }\n",
       "\n",
       "    .dataframe thead th {\n",
       "        text-align: right;\n",
       "    }\n",
       "</style>\n",
       "<table border=\"1\" class=\"dataframe\">\n",
       "  <thead>\n",
       "    <tr style=\"text-align: right;\">\n",
       "      <th></th>\n",
       "      <th></th>\n",
       "      <th>PassengerId</th>\n",
       "      <th>Survived</th>\n",
       "      <th>Name</th>\n",
       "      <th>Sex</th>\n",
       "      <th>Age</th>\n",
       "      <th>SibSp</th>\n",
       "      <th>Parch</th>\n",
       "      <th>Ticket</th>\n",
       "      <th>Fare</th>\n",
       "      <th>Cabin</th>\n",
       "      <th>Embarked</th>\n",
       "    </tr>\n",
       "    <tr>\n",
       "      <th>Deck</th>\n",
       "      <th>Pclass</th>\n",
       "      <th></th>\n",
       "      <th></th>\n",
       "      <th></th>\n",
       "      <th></th>\n",
       "      <th></th>\n",
       "      <th></th>\n",
       "      <th></th>\n",
       "      <th></th>\n",
       "      <th></th>\n",
       "      <th></th>\n",
       "      <th></th>\n",
       "    </tr>\n",
       "  </thead>\n",
       "  <tbody>\n",
       "    <tr>\n",
       "      <th>A</th>\n",
       "      <th>1</th>\n",
       "      <td>22</td>\n",
       "      <td>15</td>\n",
       "      <td>22</td>\n",
       "      <td>22</td>\n",
       "      <td>19</td>\n",
       "      <td>22</td>\n",
       "      <td>22</td>\n",
       "      <td>22</td>\n",
       "      <td>22</td>\n",
       "      <td>22</td>\n",
       "      <td>22</td>\n",
       "    </tr>\n",
       "    <tr>\n",
       "      <th>B</th>\n",
       "      <th>1</th>\n",
       "      <td>65</td>\n",
       "      <td>47</td>\n",
       "      <td>65</td>\n",
       "      <td>65</td>\n",
       "      <td>63</td>\n",
       "      <td>65</td>\n",
       "      <td>65</td>\n",
       "      <td>65</td>\n",
       "      <td>65</td>\n",
       "      <td>65</td>\n",
       "      <td>63</td>\n",
       "    </tr>\n",
       "    <tr>\n",
       "      <th>C</th>\n",
       "      <th>1</th>\n",
       "      <td>94</td>\n",
       "      <td>59</td>\n",
       "      <td>94</td>\n",
       "      <td>94</td>\n",
       "      <td>86</td>\n",
       "      <td>94</td>\n",
       "      <td>94</td>\n",
       "      <td>94</td>\n",
       "      <td>94</td>\n",
       "      <td>94</td>\n",
       "      <td>94</td>\n",
       "    </tr>\n",
       "    <tr>\n",
       "      <th rowspan=\"2\" valign=\"top\">D</th>\n",
       "      <th>1</th>\n",
       "      <td>40</td>\n",
       "      <td>29</td>\n",
       "      <td>40</td>\n",
       "      <td>40</td>\n",
       "      <td>37</td>\n",
       "      <td>40</td>\n",
       "      <td>40</td>\n",
       "      <td>40</td>\n",
       "      <td>40</td>\n",
       "      <td>40</td>\n",
       "      <td>40</td>\n",
       "    </tr>\n",
       "    <tr>\n",
       "      <th>2</th>\n",
       "      <td>6</td>\n",
       "      <td>4</td>\n",
       "      <td>6</td>\n",
       "      <td>6</td>\n",
       "      <td>5</td>\n",
       "      <td>6</td>\n",
       "      <td>6</td>\n",
       "      <td>6</td>\n",
       "      <td>6</td>\n",
       "      <td>6</td>\n",
       "      <td>6</td>\n",
       "    </tr>\n",
       "    <tr>\n",
       "      <th rowspan=\"3\" valign=\"top\">E</th>\n",
       "      <th>1</th>\n",
       "      <td>34</td>\n",
       "      <td>25</td>\n",
       "      <td>34</td>\n",
       "      <td>34</td>\n",
       "      <td>32</td>\n",
       "      <td>34</td>\n",
       "      <td>34</td>\n",
       "      <td>34</td>\n",
       "      <td>34</td>\n",
       "      <td>34</td>\n",
       "      <td>34</td>\n",
       "    </tr>\n",
       "    <tr>\n",
       "      <th>2</th>\n",
       "      <td>4</td>\n",
       "      <td>4</td>\n",
       "      <td>4</td>\n",
       "      <td>4</td>\n",
       "      <td>3</td>\n",
       "      <td>4</td>\n",
       "      <td>4</td>\n",
       "      <td>4</td>\n",
       "      <td>4</td>\n",
       "      <td>4</td>\n",
       "      <td>4</td>\n",
       "    </tr>\n",
       "    <tr>\n",
       "      <th>3</th>\n",
       "      <td>3</td>\n",
       "      <td>3</td>\n",
       "      <td>3</td>\n",
       "      <td>3</td>\n",
       "      <td>3</td>\n",
       "      <td>3</td>\n",
       "      <td>3</td>\n",
       "      <td>3</td>\n",
       "      <td>3</td>\n",
       "      <td>3</td>\n",
       "      <td>3</td>\n",
       "    </tr>\n",
       "    <tr>\n",
       "      <th rowspan=\"2\" valign=\"top\">F</th>\n",
       "      <th>2</th>\n",
       "      <td>13</td>\n",
       "      <td>8</td>\n",
       "      <td>13</td>\n",
       "      <td>13</td>\n",
       "      <td>13</td>\n",
       "      <td>13</td>\n",
       "      <td>13</td>\n",
       "      <td>13</td>\n",
       "      <td>13</td>\n",
       "      <td>13</td>\n",
       "      <td>13</td>\n",
       "    </tr>\n",
       "    <tr>\n",
       "      <th>3</th>\n",
       "      <td>8</td>\n",
       "      <td>5</td>\n",
       "      <td>8</td>\n",
       "      <td>8</td>\n",
       "      <td>5</td>\n",
       "      <td>8</td>\n",
       "      <td>8</td>\n",
       "      <td>8</td>\n",
       "      <td>8</td>\n",
       "      <td>8</td>\n",
       "      <td>8</td>\n",
       "    </tr>\n",
       "    <tr>\n",
       "      <th>G</th>\n",
       "      <th>3</th>\n",
       "      <td>5</td>\n",
       "      <td>4</td>\n",
       "      <td>5</td>\n",
       "      <td>5</td>\n",
       "      <td>5</td>\n",
       "      <td>5</td>\n",
       "      <td>5</td>\n",
       "      <td>5</td>\n",
       "      <td>5</td>\n",
       "      <td>5</td>\n",
       "      <td>5</td>\n",
       "    </tr>\n",
       "    <tr>\n",
       "      <th rowspan=\"3\" valign=\"top\">N</th>\n",
       "      <th>1</th>\n",
       "      <td>67</td>\n",
       "      <td>40</td>\n",
       "      <td>67</td>\n",
       "      <td>67</td>\n",
       "      <td>46</td>\n",
       "      <td>67</td>\n",
       "      <td>67</td>\n",
       "      <td>67</td>\n",
       "      <td>67</td>\n",
       "      <td>67</td>\n",
       "      <td>67</td>\n",
       "    </tr>\n",
       "    <tr>\n",
       "      <th>2</th>\n",
       "      <td>254</td>\n",
       "      <td>168</td>\n",
       "      <td>254</td>\n",
       "      <td>254</td>\n",
       "      <td>240</td>\n",
       "      <td>254</td>\n",
       "      <td>254</td>\n",
       "      <td>254</td>\n",
       "      <td>254</td>\n",
       "      <td>254</td>\n",
       "      <td>254</td>\n",
       "    </tr>\n",
       "    <tr>\n",
       "      <th>3</th>\n",
       "      <td>693</td>\n",
       "      <td>479</td>\n",
       "      <td>693</td>\n",
       "      <td>693</td>\n",
       "      <td>488</td>\n",
       "      <td>693</td>\n",
       "      <td>693</td>\n",
       "      <td>693</td>\n",
       "      <td>692</td>\n",
       "      <td>693</td>\n",
       "      <td>693</td>\n",
       "    </tr>\n",
       "    <tr>\n",
       "      <th>T</th>\n",
       "      <th>1</th>\n",
       "      <td>1</td>\n",
       "      <td>1</td>\n",
       "      <td>1</td>\n",
       "      <td>1</td>\n",
       "      <td>1</td>\n",
       "      <td>1</td>\n",
       "      <td>1</td>\n",
       "      <td>1</td>\n",
       "      <td>1</td>\n",
       "      <td>1</td>\n",
       "      <td>1</td>\n",
       "    </tr>\n",
       "  </tbody>\n",
       "</table>\n",
       "</div>"
      ],
      "text/plain": [
       "             PassengerId  Survived  Name  Sex  Age  SibSp  Parch  Ticket  \\\n",
       "Deck Pclass                                                                \n",
       "A    1                22        15    22   22   19     22     22      22   \n",
       "B    1                65        47    65   65   63     65     65      65   \n",
       "C    1                94        59    94   94   86     94     94      94   \n",
       "D    1                40        29    40   40   37     40     40      40   \n",
       "     2                 6         4     6    6    5      6      6       6   \n",
       "E    1                34        25    34   34   32     34     34      34   \n",
       "     2                 4         4     4    4    3      4      4       4   \n",
       "     3                 3         3     3    3    3      3      3       3   \n",
       "F    2                13         8    13   13   13     13     13      13   \n",
       "     3                 8         5     8    8    5      8      8       8   \n",
       "G    3                 5         4     5    5    5      5      5       5   \n",
       "N    1                67        40    67   67   46     67     67      67   \n",
       "     2               254       168   254  254  240    254    254     254   \n",
       "     3               693       479   693  693  488    693    693     693   \n",
       "T    1                 1         1     1    1    1      1      1       1   \n",
       "\n",
       "             Fare  Cabin  Embarked  \n",
       "Deck Pclass                         \n",
       "A    1         22     22        22  \n",
       "B    1         65     65        63  \n",
       "C    1         94     94        94  \n",
       "D    1         40     40        40  \n",
       "     2          6      6         6  \n",
       "E    1         34     34        34  \n",
       "     2          4      4         4  \n",
       "     3          3      3         3  \n",
       "F    2         13     13        13  \n",
       "     3          8      8         8  \n",
       "G    3          5      5         5  \n",
       "N    1         67     67        67  \n",
       "     2        254    254       254  \n",
       "     3        692    693       693  \n",
       "T    1          1      1         1  "
      ]
     },
     "execution_count": 19,
     "metadata": {},
     "output_type": "execute_result"
    }
   ],
   "source": [
    "titanic.groupby(['Deck','Pclass']).count()\n"
   ]
  },
  {
   "cell_type": "code",
   "execution_count": 20,
   "id": "0ee1e033",
   "metadata": {
    "execution": {
     "iopub.execute_input": "2021-10-23T10:47:07.642744Z",
     "iopub.status.busy": "2021-10-23T10:47:07.642084Z",
     "iopub.status.idle": "2021-10-23T10:47:07.653422Z",
     "shell.execute_reply": "2021-10-23T10:47:07.653898Z",
     "shell.execute_reply.started": "2021-10-23T10:36:58.241308Z"
    },
    "papermill": {
     "duration": 0.063164,
     "end_time": "2021-10-23T10:47:07.654100",
     "exception": false,
     "start_time": "2021-10-23T10:47:07.590936",
     "status": "completed"
    },
    "tags": []
   },
   "outputs": [
    {
     "data": {
      "text/plain": [
       "Pclass  Sex  Embarked\n",
       "1       0    C           40.047619\n",
       "             Q           44.000000\n",
       "             S           41.705977\n",
       "        1    C           38.107692\n",
       "             Q           35.000000\n",
       "             S           35.609375\n",
       "2       0    C           27.269231\n",
       "             Q           53.750000\n",
       "             S           30.491702\n",
       "        1    C           19.363636\n",
       "             Q           30.000000\n",
       "             S           28.455165\n",
       "3       0    C           24.129474\n",
       "             Q           26.738095\n",
       "             S           26.146241\n",
       "        1    C           16.818182\n",
       "             Q           24.333333\n",
       "             S           22.854771\n",
       "Name: Age, dtype: float64"
      ]
     },
     "execution_count": 20,
     "metadata": {},
     "output_type": "execute_result"
    }
   ],
   "source": [
    "titanic.groupby(['Pclass','Sex','Embarked'])['Age'].mean()\n"
   ]
  },
  {
   "cell_type": "code",
   "execution_count": 21,
   "id": "801575d4",
   "metadata": {
    "execution": {
     "iopub.execute_input": "2021-10-23T10:47:07.762053Z",
     "iopub.status.busy": "2021-10-23T10:47:07.754366Z",
     "iopub.status.idle": "2021-10-23T10:47:08.021251Z",
     "shell.execute_reply": "2021-10-23T10:47:08.021742Z",
     "shell.execute_reply.started": "2021-10-23T10:37:05.991335Z"
    },
    "papermill": {
     "duration": 0.31865,
     "end_time": "2021-10-23T10:47:08.021926",
     "exception": false,
     "start_time": "2021-10-23T10:47:07.703276",
     "status": "completed"
    },
    "tags": []
   },
   "outputs": [
    {
     "data": {
      "text/plain": [
       "<seaborn.axisgrid.FacetGrid at 0x7fe8a5087ad0>"
      ]
     },
     "execution_count": 21,
     "metadata": {},
     "output_type": "execute_result"
    },
    {
     "data": {
      "image/png": "[encoded data removed]",
      "text/plain": [
       "<Figure size 360x360 with 1 Axes>"
      ]
     },
     "metadata": {
      "needs_background": "light"
     },
     "output_type": "display_data"
    }
   ],
   "source": [
    "sns.catplot(data=titanic,x='Embarked',kind='count')\n"
   ]
  },
  {
   "cell_type": "code",
   "execution_count": 22,
   "id": "37c99b24",
   "metadata": {
    "execution": {
     "iopub.execute_input": "2021-10-23T10:47:08.123236Z",
     "iopub.status.busy": "2021-10-23T10:47:08.122498Z",
     "iopub.status.idle": "2021-10-23T10:47:08.138794Z",
     "shell.execute_reply": "2021-10-23T10:47:08.138240Z",
     "shell.execute_reply.started": "2021-10-23T10:37:13.287503Z"
    },
    "papermill": {
     "duration": 0.068116,
     "end_time": "2021-10-23T10:47:08.138944",
     "exception": false,
     "start_time": "2021-10-23T10:47:08.070828",
     "status": "completed"
    },
    "tags": []
   },
   "outputs": [
    {
     "data": {
      "text/html": [
       "<div>\n",
       "<style scoped>\n",
       "    .dataframe tbody tr th:only-of-type {\n",
       "        vertical-align: middle;\n",
       "    }\n",
       "\n",
       "    .dataframe tbody tr th {\n",
       "        vertical-align: top;\n",
       "    }\n",
       "\n",
       "    .dataframe thead th {\n",
       "        text-align: right;\n",
       "    }\n",
       "</style>\n",
       "<table border=\"1\" class=\"dataframe\">\n",
       "  <thead>\n",
       "    <tr style=\"text-align: right;\">\n",
       "      <th></th>\n",
       "      <th>PassengerId</th>\n",
       "      <th>Survived</th>\n",
       "      <th>Pclass</th>\n",
       "      <th>Name</th>\n",
       "      <th>Sex</th>\n",
       "      <th>Age</th>\n",
       "      <th>SibSp</th>\n",
       "      <th>Parch</th>\n",
       "      <th>Ticket</th>\n",
       "      <th>Fare</th>\n",
       "      <th>Cabin</th>\n",
       "      <th>Embarked</th>\n",
       "      <th>Deck</th>\n",
       "    </tr>\n",
       "  </thead>\n",
       "  <tbody>\n",
       "    <tr>\n",
       "      <th>61</th>\n",
       "      <td>62</td>\n",
       "      <td>1.0</td>\n",
       "      <td>1</td>\n",
       "      <td>Icard, Miss. Amelie</td>\n",
       "      <td>1</td>\n",
       "      <td>38.0</td>\n",
       "      <td>0</td>\n",
       "      <td>0</td>\n",
       "      <td>113572</td>\n",
       "      <td>80.0</td>\n",
       "      <td>B28</td>\n",
       "      <td>NaN</td>\n",
       "      <td>B</td>\n",
       "    </tr>\n",
       "    <tr>\n",
       "      <th>829</th>\n",
       "      <td>830</td>\n",
       "      <td>1.0</td>\n",
       "      <td>1</td>\n",
       "      <td>Stone, Mrs. George Nelson (Martha Evelyn)</td>\n",
       "      <td>1</td>\n",
       "      <td>62.0</td>\n",
       "      <td>0</td>\n",
       "      <td>0</td>\n",
       "      <td>113572</td>\n",
       "      <td>80.0</td>\n",
       "      <td>B28</td>\n",
       "      <td>NaN</td>\n",
       "      <td>B</td>\n",
       "    </tr>\n",
       "  </tbody>\n",
       "</table>\n",
       "</div>"
      ],
      "text/plain": [
       "     PassengerId  Survived  Pclass                                       Name  \\\n",
       "61            62       1.0       1                        Icard, Miss. Amelie   \n",
       "829          830       1.0       1  Stone, Mrs. George Nelson (Martha Evelyn)   \n",
       "\n",
       "     Sex   Age  SibSp  Parch  Ticket  Fare Cabin Embarked Deck  \n",
       "61     1  38.0      0      0  113572  80.0   B28      NaN    B  \n",
       "829    1  62.0      0      0  113572  80.0   B28      NaN    B  "
      ]
     },
     "execution_count": 22,
     "metadata": {},
     "output_type": "execute_result"
    }
   ],
   "source": [
    "titanic[titanic['Embarked'].isnull()]\n"
   ]
  },
  {
   "cell_type": "code",
   "execution_count": 23,
   "id": "df60fbb2",
   "metadata": {
    "execution": {
     "iopub.execute_input": "2021-10-23T10:47:08.244460Z",
     "iopub.status.busy": "2021-10-23T10:47:08.243712Z",
     "iopub.status.idle": "2021-10-23T10:47:08.260615Z",
     "shell.execute_reply": "2021-10-23T10:47:08.261125Z",
     "shell.execute_reply.started": "2021-10-23T10:37:21.993210Z"
    },
    "papermill": {
     "duration": 0.070259,
     "end_time": "2021-10-23T10:47:08.261402",
     "exception": false,
     "start_time": "2021-10-23T10:47:08.191143",
     "status": "completed"
    },
    "tags": []
   },
   "outputs": [
    {
     "data": {
      "text/html": [
       "<div>\n",
       "<style scoped>\n",
       "    .dataframe tbody tr th:only-of-type {\n",
       "        vertical-align: middle;\n",
       "    }\n",
       "\n",
       "    .dataframe tbody tr th {\n",
       "        vertical-align: top;\n",
       "    }\n",
       "\n",
       "    .dataframe thead th {\n",
       "        text-align: right;\n",
       "    }\n",
       "</style>\n",
       "<table border=\"1\" class=\"dataframe\">\n",
       "  <thead>\n",
       "    <tr style=\"text-align: right;\">\n",
       "      <th></th>\n",
       "      <th>PassengerId</th>\n",
       "      <th>Survived</th>\n",
       "      <th>Pclass</th>\n",
       "      <th>Name</th>\n",
       "      <th>Sex</th>\n",
       "      <th>Age</th>\n",
       "      <th>SibSp</th>\n",
       "      <th>Parch</th>\n",
       "      <th>Ticket</th>\n",
       "      <th>Fare</th>\n",
       "      <th>Cabin</th>\n",
       "      <th>Embarked</th>\n",
       "      <th>Deck</th>\n",
       "    </tr>\n",
       "  </thead>\n",
       "  <tbody>\n",
       "    <tr>\n",
       "      <th>1304</th>\n",
       "      <td>1305</td>\n",
       "      <td>NaN</td>\n",
       "      <td>3</td>\n",
       "      <td>Spector, Mr. Woolf</td>\n",
       "      <td>0</td>\n",
       "      <td>NaN</td>\n",
       "      <td>0</td>\n",
       "      <td>0</td>\n",
       "      <td>A.5. 3236</td>\n",
       "      <td>8.0500</td>\n",
       "      <td>N</td>\n",
       "      <td>S</td>\n",
       "      <td>N</td>\n",
       "    </tr>\n",
       "    <tr>\n",
       "      <th>1305</th>\n",
       "      <td>1306</td>\n",
       "      <td>NaN</td>\n",
       "      <td>1</td>\n",
       "      <td>Oliva y Ocana, Dona. Fermina</td>\n",
       "      <td>1</td>\n",
       "      <td>39.0</td>\n",
       "      <td>0</td>\n",
       "      <td>0</td>\n",
       "      <td>PC 17758</td>\n",
       "      <td>108.9000</td>\n",
       "      <td>C105</td>\n",
       "      <td>C</td>\n",
       "      <td>C</td>\n",
       "    </tr>\n",
       "    <tr>\n",
       "      <th>1306</th>\n",
       "      <td>1307</td>\n",
       "      <td>NaN</td>\n",
       "      <td>3</td>\n",
       "      <td>Saether, Mr. Simon Sivertsen</td>\n",
       "      <td>0</td>\n",
       "      <td>38.5</td>\n",
       "      <td>0</td>\n",
       "      <td>0</td>\n",
       "      <td>SOTON/O.Q. 3101262</td>\n",
       "      <td>7.2500</td>\n",
       "      <td>N</td>\n",
       "      <td>S</td>\n",
       "      <td>N</td>\n",
       "    </tr>\n",
       "    <tr>\n",
       "      <th>1307</th>\n",
       "      <td>1308</td>\n",
       "      <td>NaN</td>\n",
       "      <td>3</td>\n",
       "      <td>Ware, Mr. Frederick</td>\n",
       "      <td>0</td>\n",
       "      <td>NaN</td>\n",
       "      <td>0</td>\n",
       "      <td>0</td>\n",
       "      <td>359309</td>\n",
       "      <td>8.0500</td>\n",
       "      <td>N</td>\n",
       "      <td>S</td>\n",
       "      <td>N</td>\n",
       "    </tr>\n",
       "    <tr>\n",
       "      <th>1308</th>\n",
       "      <td>1309</td>\n",
       "      <td>NaN</td>\n",
       "      <td>3</td>\n",
       "      <td>Peter, Master. Michael J</td>\n",
       "      <td>0</td>\n",
       "      <td>NaN</td>\n",
       "      <td>1</td>\n",
       "      <td>1</td>\n",
       "      <td>2668</td>\n",
       "      <td>22.3583</td>\n",
       "      <td>N</td>\n",
       "      <td>C</td>\n",
       "      <td>N</td>\n",
       "    </tr>\n",
       "  </tbody>\n",
       "</table>\n",
       "</div>"
      ],
      "text/plain": [
       "      PassengerId  Survived  Pclass                          Name  Sex   Age  \\\n",
       "1304         1305       NaN       3            Spector, Mr. Woolf    0   NaN   \n",
       "1305         1306       NaN       1  Oliva y Ocana, Dona. Fermina    1  39.0   \n",
       "1306         1307       NaN       3  Saether, Mr. Simon Sivertsen    0  38.5   \n",
       "1307         1308       NaN       3           Ware, Mr. Frederick    0   NaN   \n",
       "1308         1309       NaN       3      Peter, Master. Michael J    0   NaN   \n",
       "\n",
       "      SibSp  Parch              Ticket      Fare Cabin Embarked Deck  \n",
       "1304      0      0           A.5. 3236    8.0500     N        S    N  \n",
       "1305      0      0            PC 17758  108.9000  C105        C    C  \n",
       "1306      0      0  SOTON/O.Q. 3101262    7.2500     N        S    N  \n",
       "1307      0      0              359309    8.0500     N        S    N  \n",
       "1308      1      1                2668   22.3583     N        C    N  "
      ]
     },
     "execution_count": 23,
     "metadata": {},
     "output_type": "execute_result"
    }
   ],
   "source": [
    "titanic['Embarked'].fillna('S',inplace=True)\n",
    "titanic.tail()"
   ]
  },
  {
   "cell_type": "code",
   "execution_count": 24,
   "id": "320a432d",
   "metadata": {
    "execution": {
     "iopub.execute_input": "2021-10-23T10:47:08.365466Z",
     "iopub.status.busy": "2021-10-23T10:47:08.364757Z",
     "iopub.status.idle": "2021-10-23T10:47:08.379292Z",
     "shell.execute_reply": "2021-10-23T10:47:08.379897Z",
     "shell.execute_reply.started": "2021-10-23T10:37:30.957767Z"
    },
    "papermill": {
     "duration": 0.067641,
     "end_time": "2021-10-23T10:47:08.380093",
     "exception": false,
     "start_time": "2021-10-23T10:47:08.312452",
     "status": "completed"
    },
    "tags": []
   },
   "outputs": [
    {
     "data": {
      "text/html": [
       "<div>\n",
       "<style scoped>\n",
       "    .dataframe tbody tr th:only-of-type {\n",
       "        vertical-align: middle;\n",
       "    }\n",
       "\n",
       "    .dataframe tbody tr th {\n",
       "        vertical-align: top;\n",
       "    }\n",
       "\n",
       "    .dataframe thead th {\n",
       "        text-align: right;\n",
       "    }\n",
       "</style>\n",
       "<table border=\"1\" class=\"dataframe\">\n",
       "  <thead>\n",
       "    <tr style=\"text-align: right;\">\n",
       "      <th></th>\n",
       "      <th>PassengerId</th>\n",
       "      <th>Survived</th>\n",
       "      <th>Pclass</th>\n",
       "      <th>Name</th>\n",
       "      <th>Sex</th>\n",
       "      <th>Age</th>\n",
       "      <th>SibSp</th>\n",
       "      <th>Parch</th>\n",
       "      <th>Ticket</th>\n",
       "      <th>Fare</th>\n",
       "      <th>Cabin</th>\n",
       "      <th>Embarked</th>\n",
       "      <th>Deck</th>\n",
       "    </tr>\n",
       "  </thead>\n",
       "  <tbody>\n",
       "    <tr>\n",
       "      <th>1043</th>\n",
       "      <td>1044</td>\n",
       "      <td>NaN</td>\n",
       "      <td>3</td>\n",
       "      <td>Storey, Mr. Thomas</td>\n",
       "      <td>0</td>\n",
       "      <td>60.5</td>\n",
       "      <td>0</td>\n",
       "      <td>0</td>\n",
       "      <td>3701</td>\n",
       "      <td>NaN</td>\n",
       "      <td>N</td>\n",
       "      <td>S</td>\n",
       "      <td>N</td>\n",
       "    </tr>\n",
       "  </tbody>\n",
       "</table>\n",
       "</div>"
      ],
      "text/plain": [
       "      PassengerId  Survived  Pclass                Name  Sex   Age  SibSp  \\\n",
       "1043         1044       NaN       3  Storey, Mr. Thomas    0  60.5      0   \n",
       "\n",
       "      Parch Ticket  Fare Cabin Embarked Deck  \n",
       "1043      0   3701   NaN     N        S    N  "
      ]
     },
     "execution_count": 24,
     "metadata": {},
     "output_type": "execute_result"
    }
   ],
   "source": [
    "titanic[titanic['Fare'].isnull()]\n"
   ]
  },
  {
   "cell_type": "code",
   "execution_count": 25,
   "id": "cfa07c6b",
   "metadata": {
    "execution": {
     "iopub.execute_input": "2021-10-23T10:47:08.484356Z",
     "iopub.status.busy": "2021-10-23T10:47:08.483634Z",
     "iopub.status.idle": "2021-10-23T10:47:08.489198Z",
     "shell.execute_reply": "2021-10-23T10:47:08.489705Z",
     "shell.execute_reply.started": "2021-10-23T10:37:40.519040Z"
    },
    "papermill": {
     "duration": 0.059237,
     "end_time": "2021-10-23T10:47:08.489899",
     "exception": false,
     "start_time": "2021-10-23T10:47:08.430662",
     "status": "completed"
    },
    "tags": []
   },
   "outputs": [],
   "source": [
    "k=titanic.groupby(['Pclass'])['Fare'].mean()\n",
    "titanic['Fare']=titanic['Fare'].replace(np.nan,k[3])"
   ]
  },
  {
   "cell_type": "code",
   "execution_count": 26,
   "id": "ee2dd1d5",
   "metadata": {
    "execution": {
     "iopub.execute_input": "2021-10-23T10:47:08.598854Z",
     "iopub.status.busy": "2021-10-23T10:47:08.598149Z",
     "iopub.status.idle": "2021-10-23T10:47:08.606856Z",
     "shell.execute_reply": "2021-10-23T10:47:08.606084Z",
     "shell.execute_reply.started": "2021-10-23T10:37:47.292616Z"
    },
    "papermill": {
     "duration": 0.064162,
     "end_time": "2021-10-23T10:47:08.607001",
     "exception": false,
     "start_time": "2021-10-23T10:47:08.542839",
     "status": "completed"
    },
    "tags": []
   },
   "outputs": [
    {
     "data": {
      "text/plain": [
       "Embarked  Sex  Pclass\n",
       "C         0    1         40.047619\n",
       "               2         27.269231\n",
       "               3         24.129474\n",
       "          1    1         38.107692\n",
       "               2         19.363636\n",
       "               3         16.818182\n",
       "Q         0    1         44.000000\n",
       "               2         53.750000\n",
       "               3         26.738095\n",
       "          1    1         35.000000\n",
       "               2         30.000000\n",
       "               3         24.333333\n",
       "S         0    1         41.705977\n",
       "               2         30.491702\n",
       "               3         26.146241\n",
       "          1    1         36.045455\n",
       "               2         28.455165\n",
       "               3         22.854771\n",
       "Name: Age, dtype: float64"
      ]
     },
     "execution_count": 26,
     "metadata": {},
     "output_type": "execute_result"
    }
   ],
   "source": [
    "titanic.groupby(['Embarked','Sex','Pclass'])['Age'].mean()"
   ]
  },
  {
   "cell_type": "code",
   "execution_count": 27,
   "id": "bfa3f1cb",
   "metadata": {
    "execution": {
     "iopub.execute_input": "2021-10-23T10:47:08.712066Z",
     "iopub.status.busy": "2021-10-23T10:47:08.711424Z",
     "iopub.status.idle": "2021-10-23T10:47:08.717859Z",
     "shell.execute_reply": "2021-10-23T10:47:08.718425Z",
     "shell.execute_reply.started": "2021-10-23T10:37:55.259774Z"
    },
    "papermill": {
     "duration": 0.060724,
     "end_time": "2021-10-23T10:47:08.718605",
     "exception": false,
     "start_time": "2021-10-23T10:47:08.657881",
     "status": "completed"
    },
    "tags": []
   },
   "outputs": [],
   "source": [
    "titanic['Age']=titanic['Age'].fillna(titanic.groupby(['Embarked','Sex','Pclass'])['Age'].transform('mean'))"
   ]
  },
  {
   "cell_type": "code",
   "execution_count": 28,
   "id": "bbbc5d24",
   "metadata": {
    "execution": {
     "iopub.execute_input": "2021-10-23T10:47:08.835486Z",
     "iopub.status.busy": "2021-10-23T10:47:08.834422Z",
     "iopub.status.idle": "2021-10-23T10:47:08.851990Z",
     "shell.execute_reply": "2021-10-23T10:47:08.852758Z",
     "shell.execute_reply.started": "2021-10-23T10:38:00.678613Z"
    },
    "papermill": {
     "duration": 0.083609,
     "end_time": "2021-10-23T10:47:08.852970",
     "exception": false,
     "start_time": "2021-10-23T10:47:08.769361",
     "status": "completed"
    },
    "tags": []
   },
   "outputs": [
    {
     "name": "stdout",
     "output_type": "stream",
     "text": [
      "<class 'pandas.core.frame.DataFrame'>\n",
      "RangeIndex: 1309 entries, 0 to 1308\n",
      "Data columns (total 13 columns):\n",
      " #   Column       Non-Null Count  Dtype  \n",
      "---  ------       --------------  -----  \n",
      " 0   PassengerId  1309 non-null   int64  \n",
      " 1   Survived     891 non-null    float64\n",
      " 2   Pclass       1309 non-null   int64  \n",
      " 3   Name         1309 non-null   object \n",
      " 4   Sex          1309 non-null   int64  \n",
      " 5   Age          1309 non-null   float64\n",
      " 6   SibSp        1309 non-null   int64  \n",
      " 7   Parch        1309 non-null   int64  \n",
      " 8   Ticket       1309 non-null   object \n",
      " 9   Fare         1309 non-null   float64\n",
      " 10  Cabin        1309 non-null   object \n",
      " 11  Embarked     1309 non-null   object \n",
      " 12  Deck         1309 non-null   object \n",
      "dtypes: float64(3), int64(5), object(5)\n",
      "memory usage: 133.1+ KB\n"
     ]
    }
   ],
   "source": [
    "titanic.info()\n"
   ]
  },
  {
   "cell_type": "code",
   "execution_count": 29,
   "id": "f296d8d3",
   "metadata": {
    "execution": {
     "iopub.execute_input": "2021-10-23T10:47:08.971371Z",
     "iopub.status.busy": "2021-10-23T10:47:08.970652Z",
     "iopub.status.idle": "2021-10-23T10:47:08.977422Z",
     "shell.execute_reply": "2021-10-23T10:47:08.977959Z",
     "shell.execute_reply.started": "2021-10-23T10:38:09.092602Z"
    },
    "papermill": {
     "duration": 0.062906,
     "end_time": "2021-10-23T10:47:08.978159",
     "exception": false,
     "start_time": "2021-10-23T10:47:08.915253",
     "status": "completed"
    },
    "tags": []
   },
   "outputs": [],
   "source": [
    "titanic['Name_pre']=titanic[\"Name\"].apply(lambda x: x.split(',')[1].split('.')[0].strip())\n"
   ]
  },
  {
   "cell_type": "code",
   "execution_count": 30,
   "id": "7bbcb8f0",
   "metadata": {
    "execution": {
     "iopub.execute_input": "2021-10-23T10:47:09.085455Z",
     "iopub.status.busy": "2021-10-23T10:47:09.084578Z",
     "iopub.status.idle": "2021-10-23T10:47:09.091016Z",
     "shell.execute_reply": "2021-10-23T10:47:09.091931Z",
     "shell.execute_reply.started": "2021-10-23T10:38:16.682781Z"
    },
    "papermill": {
     "duration": 0.062913,
     "end_time": "2021-10-23T10:47:09.092192",
     "exception": false,
     "start_time": "2021-10-23T10:47:09.029279",
     "status": "completed"
    },
    "tags": []
   },
   "outputs": [
    {
     "name": "stdout",
     "output_type": "stream",
     "text": [
      "Mr              757\n",
      "Miss            260\n",
      "Mrs             197\n",
      "Master           61\n",
      "Rev               8\n",
      "Dr                8\n",
      "Col               4\n",
      "Mlle              2\n",
      "Major             2\n",
      "Ms                2\n",
      "Lady              1\n",
      "Sir               1\n",
      "Mme               1\n",
      "Don               1\n",
      "Capt              1\n",
      "the Countess      1\n",
      "Jonkheer          1\n",
      "Dona              1\n",
      "Name: Name_pre, dtype: int64\n"
     ]
    }
   ],
   "source": [
    "print(titanic['Name_pre'].value_counts())"
   ]
  },
  {
   "cell_type": "code",
   "execution_count": 31,
   "id": "f1047dbb",
   "metadata": {
    "execution": {
     "iopub.execute_input": "2021-10-23T10:47:09.202350Z",
     "iopub.status.busy": "2021-10-23T10:47:09.201676Z",
     "iopub.status.idle": "2021-10-23T10:47:09.213191Z",
     "shell.execute_reply": "2021-10-23T10:47:09.213781Z",
     "shell.execute_reply.started": "2021-10-23T10:38:42.724124Z"
    },
    "papermill": {
     "duration": 0.067532,
     "end_time": "2021-10-23T10:47:09.213953",
     "exception": false,
     "start_time": "2021-10-23T10:47:09.146421",
     "status": "completed"
    },
    "tags": []
   },
   "outputs": [
    {
     "data": {
      "text/plain": [
       "Mr         759\n",
       "Miss       264\n",
       "Mrs        197\n",
       "Master      61\n",
       "Rev          8\n",
       "Dr           8\n",
       "Officer      7\n",
       "Royalty      4\n",
       "Name: Name_pre, dtype: int64"
      ]
     },
     "execution_count": 31,
     "metadata": {},
     "output_type": "execute_result"
    }
   ],
   "source": [
    "#Reducing the Name prefix\n",
    "titanic['Name_pre'] = titanic['Name_pre'].apply({\n",
    "    'Mr': 'Mr',\n",
    "    'Miss': 'Miss',\n",
    "    'Mrs': 'Mrs',\n",
    "    'Master': 'Master',\n",
    "    'Dr': 'Dr',\n",
    "    'Rev': 'Rev',\n",
    "    'Don': 'Royalty',\n",
    "    'Col': 'Officer',\n",
    "    'Jonkheer': 'Mr',\n",
    "    'Major': 'Officer',\n",
    "    'Ms': 'Miss',\n",
    "    'Mlle': 'Miss',\n",
    "    'the Countess': 'Royalty',\n",
    "    'Capt': 'Officer',\n",
    "    'Dona': 'Royalty',\n",
    "    'Lady': 'Royalty',\n",
    "    'Sir': 'Mr',\n",
    "    #'Mme': 'Mrs',\n",
    "}.get)\n",
    "titanic['Name_pre'].value_counts()"
   ]
  },
  {
   "cell_type": "code",
   "execution_count": 32,
   "id": "b74f6fb0",
   "metadata": {
    "execution": {
     "iopub.execute_input": "2021-10-23T10:47:09.321453Z",
     "iopub.status.busy": "2021-10-23T10:47:09.320791Z",
     "iopub.status.idle": "2021-10-23T10:47:09.327862Z",
     "shell.execute_reply": "2021-10-23T10:47:09.328400Z",
     "shell.execute_reply.started": "2021-10-23T10:38:56.977021Z"
    },
    "papermill": {
     "duration": 0.062869,
     "end_time": "2021-10-23T10:47:09.328587",
     "exception": false,
     "start_time": "2021-10-23T10:47:09.265718",
     "status": "completed"
    },
    "tags": []
   },
   "outputs": [],
   "source": [
    "titanic['Family']=titanic['SibSp']+titanic['Parch']+1\n"
   ]
  },
  {
   "cell_type": "code",
   "execution_count": 33,
   "id": "0324e922",
   "metadata": {
    "execution": {
     "iopub.execute_input": "2021-10-23T10:47:09.437899Z",
     "iopub.status.busy": "2021-10-23T10:47:09.436851Z",
     "iopub.status.idle": "2021-10-23T10:47:09.443644Z",
     "shell.execute_reply": "2021-10-23T10:47:09.444221Z",
     "shell.execute_reply.started": "2021-10-23T10:39:02.450582Z"
    },
    "papermill": {
     "duration": 0.063094,
     "end_time": "2021-10-23T10:47:09.444410",
     "exception": false,
     "start_time": "2021-10-23T10:47:09.381316",
     "status": "completed"
    },
    "tags": []
   },
   "outputs": [],
   "source": [
    "titanic.drop(['Name','SibSp','Parch','Ticket','Cabin','Deck'],axis=1,inplace=True)\n"
   ]
  },
  {
   "cell_type": "code",
   "execution_count": 34,
   "id": "f8ba91c4",
   "metadata": {
    "execution": {
     "iopub.execute_input": "2021-10-23T10:47:09.559086Z",
     "iopub.status.busy": "2021-10-23T10:47:09.557201Z",
     "iopub.status.idle": "2021-10-23T10:47:09.565792Z",
     "shell.execute_reply": "2021-10-23T10:47:09.566366Z",
     "shell.execute_reply.started": "2021-10-23T10:40:12.849708Z"
    },
    "papermill": {
     "duration": 0.069911,
     "end_time": "2021-10-23T10:47:09.566541",
     "exception": false,
     "start_time": "2021-10-23T10:47:09.496630",
     "status": "completed"
    },
    "tags": []
   },
   "outputs": [],
   "source": [
    "#Making the dummy variables of the certains columns\n",
    "emb = pd.get_dummies(titanic['Embarked'], prefix='Embarked')\n",
    "titl = pd.get_dummies(titanic['Name_pre'], prefix='Name_pre')\n",
    "sex = pd.get_dummies(titanic['Sex'], prefix='Sex')\n",
    "#deck=pd.get_dummies(titanic['Deck'], prefix='Deck')\n",
    "#age = pd.get_dummies(titanic['Age-range'], prefix='age')\n",
    "\n",
    "# Concatenating dummy variables to dataframe\n",
    "titanic = pd.concat([titanic, emb,titl, sex], axis=1)\n",
    "\n",
    "# Droping intial variables\n",
    "titanic.drop(['Embarked','Name_pre', 'Sex'], axis=1, inplace=True)\n"
   ]
  },
  {
   "cell_type": "code",
   "execution_count": 35,
   "id": "338847f3",
   "metadata": {
    "execution": {
     "iopub.execute_input": "2021-10-23T10:47:09.674291Z",
     "iopub.status.busy": "2021-10-23T10:47:09.673555Z",
     "iopub.status.idle": "2021-10-23T10:47:09.677853Z",
     "shell.execute_reply": "2021-10-23T10:47:09.678449Z",
     "shell.execute_reply.started": "2021-10-23T10:41:43.016529Z"
    },
    "papermill": {
     "duration": 0.059709,
     "end_time": "2021-10-23T10:47:09.678630",
     "exception": false,
     "start_time": "2021-10-23T10:47:09.618921",
     "status": "completed"
    },
    "tags": []
   },
   "outputs": [],
   "source": [
    "train=titanic.loc[:train_-1, :]\n"
   ]
  },
  {
   "cell_type": "code",
   "execution_count": 36,
   "id": "7bf16bb1",
   "metadata": {
    "execution": {
     "iopub.execute_input": "2021-10-23T10:47:09.785342Z",
     "iopub.status.busy": "2021-10-23T10:47:09.784685Z",
     "iopub.status.idle": "2021-10-23T10:47:09.789965Z",
     "shell.execute_reply": "2021-10-23T10:47:09.790506Z",
     "shell.execute_reply.started": "2021-10-23T10:41:52.062117Z"
    },
    "papermill": {
     "duration": 0.060124,
     "end_time": "2021-10-23T10:47:09.790680",
     "exception": false,
     "start_time": "2021-10-23T10:47:09.730556",
     "status": "completed"
    },
    "tags": []
   },
   "outputs": [],
   "source": [
    "test=titanic.loc[train_:, :]\n",
    "test=test.drop('Survived',axis=1)"
   ]
  },
  {
   "cell_type": "code",
   "execution_count": 37,
   "id": "f4b098d5",
   "metadata": {
    "execution": {
     "iopub.execute_input": "2021-10-23T10:47:09.902235Z",
     "iopub.status.busy": "2021-10-23T10:47:09.897989Z",
     "iopub.status.idle": "2021-10-23T10:47:09.905459Z",
     "shell.execute_reply": "2021-10-23T10:47:09.906377Z",
     "shell.execute_reply.started": "2021-10-23T10:42:09.205151Z"
    },
    "papermill": {
     "duration": 0.063501,
     "end_time": "2021-10-23T10:47:09.906564",
     "exception": false,
     "start_time": "2021-10-23T10:47:09.843063",
     "status": "completed"
    },
    "tags": []
   },
   "outputs": [],
   "source": [
    "train_x=train.drop('Survived',axis=1)\n",
    "train_y=train['Survived']"
   ]
  },
  {
   "cell_type": "code",
   "execution_count": 38,
   "id": "9ca85198",
   "metadata": {
    "execution": {
     "iopub.execute_input": "2021-10-23T10:47:10.016235Z",
     "iopub.status.busy": "2021-10-23T10:47:10.015170Z",
     "iopub.status.idle": "2021-10-23T10:47:10.198553Z",
     "shell.execute_reply": "2021-10-23T10:47:10.199135Z",
     "shell.execute_reply.started": "2021-10-23T10:42:44.433541Z"
    },
    "papermill": {
     "duration": 0.240572,
     "end_time": "2021-10-23T10:47:10.199332",
     "exception": false,
     "start_time": "2021-10-23T10:47:09.958760",
     "status": "completed"
    },
    "tags": []
   },
   "outputs": [],
   "source": [
    "#Splitting the train and test dataset and applying the machine learning algorithms\n",
    "from sklearn.model_selection import train_test_split\n",
    "X_train,X_test,Y_train,Y_test=train_test_split(train_x,train_y,test_size=0.2,random_state=0)"
   ]
  },
  {
   "cell_type": "code",
   "execution_count": 39,
   "id": "c920f198",
   "metadata": {
    "execution": {
     "iopub.execute_input": "2021-10-23T10:47:10.307124Z",
     "iopub.status.busy": "2021-10-23T10:47:10.306128Z",
     "iopub.status.idle": "2021-10-23T10:47:24.300236Z",
     "shell.execute_reply": "2021-10-23T10:47:24.300785Z",
     "shell.execute_reply.started": "2021-10-23T10:42:56.699416Z"
    },
    "papermill": {
     "duration": 14.049686,
     "end_time": "2021-10-23T10:47:24.300979",
     "exception": false,
     "start_time": "2021-10-23T10:47:10.251293",
     "status": "completed"
    },
    "tags": []
   },
   "outputs": [
    {
     "name": "stdout",
     "output_type": "stream",
     "text": [
      "Score for diffrent values of n_estimators\n",
      "200  :  0.8547486033519553\n",
      "400  :  0.8547486033519553\n",
      "600  :  0.8603351955307262\n",
      "800  :  0.8603351955307262\n",
      "1000  :  0.8603351955307262\n",
      "1200  :  0.8547486033519553\n",
      "1400  :  0.8547486033519553\n"
     ]
    }
   ],
   "source": [
    "from sklearn.ensemble import RandomForestClassifier\n",
    "scores={}\n",
    "for i in range(1,8):\n",
    "    model=RandomForestClassifier(n_estimators=200*i,random_state=0)\n",
    "    model.fit(X_train,Y_train)\n",
    "    score=model.score(X_test,Y_test)\n",
    "    scores[200*i]=score\n",
    "print('Score for diffrent values of n_estimators')\n",
    "for i,j in scores.items():\n",
    "    print(i, ' : ', j)"
   ]
  },
  {
   "cell_type": "code",
   "execution_count": 40,
   "id": "6ef43d7f",
   "metadata": {
    "execution": {
     "iopub.execute_input": "2021-10-23T10:47:24.413790Z",
     "iopub.status.busy": "2021-10-23T10:47:24.413093Z",
     "iopub.status.idle": "2021-10-23T10:47:27.041998Z",
     "shell.execute_reply": "2021-10-23T10:47:27.041423Z",
     "shell.execute_reply.started": "2021-10-23T10:44:19.010270Z"
    },
    "papermill": {
     "duration": 2.688747,
     "end_time": "2021-10-23T10:47:27.042175",
     "exception": false,
     "start_time": "2021-10-23T10:47:24.353428",
     "status": "completed"
    },
    "tags": []
   },
   "outputs": [],
   "source": [
    "model_=RandomForestClassifier(n_estimators=1000,random_state=0)\n",
    "model_.fit(train_x,train_y)\n",
    "prediction=model_.predict(test)"
   ]
  },
  {
   "cell_type": "code",
   "execution_count": 41,
   "id": "cc340ab7",
   "metadata": {
    "execution": {
     "iopub.execute_input": "2021-10-23T10:47:27.163174Z",
     "iopub.status.busy": "2021-10-23T10:47:27.162500Z",
     "iopub.status.idle": "2021-10-23T10:47:27.166282Z",
     "shell.execute_reply": "2021-10-23T10:47:27.165623Z",
     "shell.execute_reply.started": "2021-10-23T10:44:28.504748Z"
    },
    "papermill": {
     "duration": 0.071495,
     "end_time": "2021-10-23T10:47:27.166424",
     "exception": false,
     "start_time": "2021-10-23T10:47:27.094929",
     "status": "completed"
    },
    "tags": []
   },
   "outputs": [
    {
     "data": {
      "text/html": [
       "<div>\n",
       "<style scoped>\n",
       "    .dataframe tbody tr th:only-of-type {\n",
       "        vertical-align: middle;\n",
       "    }\n",
       "\n",
       "    .dataframe tbody tr th {\n",
       "        vertical-align: top;\n",
       "    }\n",
       "\n",
       "    .dataframe thead th {\n",
       "        text-align: right;\n",
       "    }\n",
       "</style>\n",
       "<table border=\"1\" class=\"dataframe\">\n",
       "  <thead>\n",
       "    <tr style=\"text-align: right;\">\n",
       "      <th></th>\n",
       "      <th>PassengerId</th>\n",
       "      <th>Survived</th>\n",
       "    </tr>\n",
       "  </thead>\n",
       "  <tbody>\n",
       "    <tr>\n",
       "      <th>0</th>\n",
       "      <td>892</td>\n",
       "      <td>0</td>\n",
       "    </tr>\n",
       "    <tr>\n",
       "      <th>1</th>\n",
       "      <td>893</td>\n",
       "      <td>1</td>\n",
       "    </tr>\n",
       "    <tr>\n",
       "      <th>2</th>\n",
       "      <td>894</td>\n",
       "      <td>0</td>\n",
       "    </tr>\n",
       "    <tr>\n",
       "      <th>3</th>\n",
       "      <td>895</td>\n",
       "      <td>1</td>\n",
       "    </tr>\n",
       "    <tr>\n",
       "      <th>4</th>\n",
       "      <td>896</td>\n",
       "      <td>1</td>\n",
       "    </tr>\n",
       "    <tr>\n",
       "      <th>...</th>\n",
       "      <td>...</td>\n",
       "      <td>...</td>\n",
       "    </tr>\n",
       "    <tr>\n",
       "      <th>413</th>\n",
       "      <td>1305</td>\n",
       "      <td>0</td>\n",
       "    </tr>\n",
       "    <tr>\n",
       "      <th>414</th>\n",
       "      <td>1306</td>\n",
       "      <td>1</td>\n",
       "    </tr>\n",
       "    <tr>\n",
       "      <th>415</th>\n",
       "      <td>1307</td>\n",
       "      <td>0</td>\n",
       "    </tr>\n",
       "    <tr>\n",
       "      <th>416</th>\n",
       "      <td>1308</td>\n",
       "      <td>0</td>\n",
       "    </tr>\n",
       "    <tr>\n",
       "      <th>417</th>\n",
       "      <td>1309</td>\n",
       "      <td>1</td>\n",
       "    </tr>\n",
       "  </tbody>\n",
       "</table>\n",
       "<p>418 rows × 2 columns</p>\n",
       "</div>"
      ],
      "text/plain": [
       "     PassengerId  Survived\n",
       "0            892         0\n",
       "1            893         1\n",
       "2            894         0\n",
       "3            895         1\n",
       "4            896         1\n",
       "..           ...       ...\n",
       "413         1305         0\n",
       "414         1306         1\n",
       "415         1307         0\n",
       "416         1308         0\n",
       "417         1309         1\n",
       "\n",
       "[418 rows x 2 columns]"
      ]
     },
     "execution_count": 41,
     "metadata": {},
     "output_type": "execute_result"
    }
   ],
   "source": [
    "submit=pd.DataFrame({'PassengerId':test['PassengerId'],'Survived':prediction})\n",
    "submit['Survived']=submit['Survived'].astype('int')\n",
    "submit.reset_index(inplace=True)\n",
    "submit=submit.drop('index',axis=1)\n",
    "submit"
   ]
  },
  {
   "cell_type": "code",
   "execution_count": 42,
   "id": "bdbc26e6",
   "metadata": {
    "execution": {
     "iopub.execute_input": "2021-10-23T10:47:27.276903Z",
     "iopub.status.busy": "2021-10-23T10:47:27.276235Z",
     "iopub.status.idle": "2021-10-23T10:47:27.281605Z",
     "shell.execute_reply": "2021-10-23T10:47:27.282220Z",
     "shell.execute_reply.started": "2021-10-23T10:44:38.809121Z"
    },
    "papermill": {
     "duration": 0.063073,
     "end_time": "2021-10-23T10:47:27.282400",
     "exception": false,
     "start_time": "2021-10-23T10:47:27.219327",
     "status": "completed"
    },
    "tags": []
   },
   "outputs": [],
   "source": [
    "submit.to_csv('titanic_submit.csv',index=False)"
   ]
  },
  {
   "cell_type": "code",
   "execution_count": null,
   "id": "763775da",
   "metadata": {
    "papermill": {
     "duration": 0.052473,
     "end_time": "2021-10-23T10:47:27.387790",
     "exception": false,
     "start_time": "2021-10-23T10:47:27.335317",
     "status": "completed"
    },
    "tags": []
   },
   "outputs": [],
   "source": []
  }
 ],
 "metadata": {
  "kernelspec": {
   "display_name": "Python 3",
   "language": "python",
   "name": "python3"
  },
  "language_info": {
   "codemirror_mode": {
    "name": "ipython",
    "version": 3
   },
   "file_extension": ".py",
   "mimetype": "text/x-python",
   "name": "python",
   "nbconvert_exporter": "python",
   "pygments_lexer": "ipython3",
   "version": "3.7.10"
  },
  "papermill": {
   "default_parameters": {},
   "duration": 39.585181,
   "end_time": "2021-10-23T10:47:28.252770",
   "environment_variables": {},
   "exception": null,
   "input_path": "__notebook__.ipynb",
   "output_path": "__notebook__.ipynb",
   "parameters": {},
   "start_time": "2021-10-23T10:46:48.667589",
   "version": "2.3.3"
  }
 },
 "nbformat": 4,
 "nbformat_minor": 5
}
